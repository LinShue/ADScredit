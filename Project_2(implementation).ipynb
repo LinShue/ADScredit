{
  "nbformat": 4,
  "nbformat_minor": 0,
  "metadata": {
    "colab": {
      "provenance": []
    },
    "kernelspec": {
      "name": "python3",
      "display_name": "Python 3"
    },
    "language_info": {
      "name": "python"
    }
  },
  "cells": [
    {
      "cell_type": "code",
      "execution_count": null,
      "metadata": {
        "id": "g6INxKo8-a-s"
      },
      "outputs": [],
      "source": [
        "import seaborn as sns\n",
        "import matplotlib.pyplot as plt\n",
        "%matplotlib inline"
      ]
    },
    {
      "cell_type": "code",
      "source": [
        "from sklearn.metrics import roc_auc_score,precision_recall_curve,roc_curve\n",
        "from sklearn.metrics import classification_report, accuracy_score\n",
        "from sklearn.model_selection import train_test_split\n",
        "from sklearn.metrics import roc_auc_score, confusion_matrix, auc\n",
        "from sklearn import model_selection"
      ],
      "metadata": {
        "id": "fVXp0HaA-lbP"
      },
      "execution_count": null,
      "outputs": []
    },
    {
      "cell_type": "code",
      "source": [
        "from sklearn.model_selection import GridSearchCV, StratifiedKFold, KFold\n",
        "from sklearn.ensemble import RandomForestClassifier, VotingClassifier\n",
        "from sklearn.linear_model import LogisticRegression\n",
        "import xgboost as xgb\n",
        "import lightgbm as lgb"
      ],
      "metadata": {
        "id": "IFqbkZUD-ldZ"
      },
      "execution_count": null,
      "outputs": []
    },
    {
      "cell_type": "code",
      "source": [
        "def evalBinaryClassifier(model, x, y, labels=['Positives','Negatives']):\n",
        "    '''\n",
        "    source: https://towardsdatascience.com/how-to-interpret-a-binary-logistic-regressor-with-scikit-learn-6d56c5783b49\n",
        "    Visualize the performance of  a Logistic Regression Binary Classifier.\n",
        "\n",
        "    Displays a labelled Confusion Matrix, distributions of the predicted\n",
        "    probabilities for both classes, the ROC curve, and F1 score of a fitted\n",
        "    Binary Logistic Classifier. Author: gregcondit.com/articles/logr-charts\n",
        "    Parameters\n",
        "    ----------\n",
        "    model : fitted scikit-learn model with predict_proba & predict methods\n",
        "        and classes_ attribute. Typically LogisticRegression or\n",
        "        LogisticRegressionCV\n",
        "\n",
        "    x : {array-like, sparse matrix}, shape (n_samples, n_features)\n",
        "        Training vector, where n_samples is the number of samples\n",
        "        in the data to be tested, and n_features is the number of features\n",
        "\n",
        "    y : array-like, shape (n_samples,)\n",
        "        Target vector relative to x.\n",
        "        labels: list, optional\n",
        "        list of text labels for the two classes, with the positive label first\n",
        "\n",
        "    Displays\n",
        "    ----------\n",
        "    3 Subplots\n",
        "\n",
        "    Returns\n",
        "    ----------\n",
        "    F1: float\n",
        "    '''\n",
        "    #model predicts probabilities of positive class\n",
        "    p = model.predict_proba(x)\n",
        "    if len(model.classes_)!=2:\n",
        "        raise ValueError('A binary class problem is required')\n",
        "    if model.classes_[1] == 1:\n",
        "        pos_p = p[:,1]\n",
        "    elif model.classes_[0] == 1:\n",
        "        pos_p = p[:,0]\n",
        "\n",
        "    #FIGURE\n",
        "    plt.figure(figsize=[15,4])\n",
        "\n",
        "    #1 -- Confusion matrix\n",
        "    cm = confusion_matrix(y,model.predict(x))\n",
        "    plt.subplot(131)\n",
        "    ax = sns.heatmap(cm, annot=True, cmap='Blues', cbar=False,\n",
        "                annot_kws={\"size\": 14}, fmt='g')\n",
        "    cmlabels = ['True Negatives', 'False Positives',\n",
        "              'False Negatives', 'True Positives']\n",
        "    for i,t in enumerate(ax.texts):\n",
        "      t.set_text(t.get_text() + \"\\n\" + cmlabels[i])\n",
        "    plt.title('Confusion Matrix', size=15)\n",
        "    plt.xlabel('Predicted Values', size=13)\n",
        "    plt.ylabel('True Values', size=13)\n",
        "\n",
        "    #2 -- Distributions of Predicted Probabilities of both classes\n",
        "    df = pd.DataFrame({'probPos':pos_p, 'target': y})\n",
        "    plt.subplot(132)\n",
        "    plt.hist(df[df.target==1].probPos, density=True, bins=25,\n",
        "             alpha=.5, color='green',  label=labels[0])\n",
        "    plt.hist(df[df.target==0].probPos, density=True, bins=25,\n",
        "             alpha=.5, color='red', label=labels[1])\n",
        "    plt.axvline(.5, color='blue', linestyle='--', label='Boundary')\n",
        "    plt.xlim([0,1])\n",
        "    plt.title('Distributions of Predictions', size=15)\n",
        "    plt.xlabel('Positive Probability (predicted)', size=13)\n",
        "    plt.ylabel('Samples (normalized scale)', size=13)\n",
        "    plt.legend(loc=\"upper right\")\n",
        "\n",
        "    #3 -- ROC curve with annotated decision point\n",
        "    fp_rates, tp_rates, _ = roc_curve(y,p[:,1])\n",
        "    roc_auc = auc(fp_rates, tp_rates)\n",
        "    plt.subplot(133)\n",
        "    plt.plot(fp_rates, tp_rates, color='green',\n",
        "             lw=1, label='ROC curve (area = %0.2f)' % roc_auc)\n",
        "    plt.plot([0, 1], [0, 1], lw=1, linestyle='--', color='grey')\n",
        "    #plot current decision point:\n",
        "    tn, fp, fn, tp = [i for i in cm.ravel()]\n",
        "    plt.plot(fp/(fp+tn), tp/(tp+fn), 'bo', markersize=8, label='Decision Point')\n",
        "    plt.xlim([0.0, 1.0])\n",
        "    plt.ylim([0.0, 1.05])\n",
        "    plt.xlabel('False Positive Rate', size=13)\n",
        "    plt.ylabel('True Positive Rate', size=13)\n",
        "    plt.title('ROC Curve', size=15)\n",
        "    plt.legend(loc=\"lower right\")\n",
        "    plt.subplots_adjust(wspace=.3)\n",
        "    plt.show()\n",
        "    #Print and Return the F1 score\n",
        "    tn, fp, fn, tp = [i for i in cm.ravel()]\n",
        "    precision = tp / (tp + fp)\n",
        "    recall = tp / (tp + fn)\n",
        "    F1 = 2*(precision * recall) / (precision + recall)\n",
        "    printout = (\n",
        "        f'Precision: {round(precision,2)} | '\n",
        "        f'Recall: {round(recall,2)} | '\n",
        "        f'F1 Score: {round(F1,2)} | '\n",
        "    )\n",
        "    print(printout)\n",
        "    return F1"
      ],
      "metadata": {
        "id": "EK7FpTmi-lg0"
      },
      "execution_count": null,
      "outputs": []
    },
    {
      "cell_type": "code",
      "source": [
        "import pandas as pd\n",
        "train = pd.read_csv('cs-training.csv')\n",
        "test = pd.read_csv('cs-test.csv')"
      ],
      "metadata": {
        "id": "cCEG_vT_-liu"
      },
      "execution_count": null,
      "outputs": []
    },
    {
      "cell_type": "code",
      "source": [
        "print('train shape  ',train.shape)"
      ],
      "metadata": {
        "colab": {
          "base_uri": "https://localhost:8080/"
        },
        "id": "LX9oWOUU-lmR",
        "outputId": "86713e04-cceb-4d37-8a50-9bc11e5eebf5"
      },
      "execution_count": null,
      "outputs": [
        {
          "output_type": "stream",
          "name": "stdout",
          "text": [
            "train shape   (150000, 12)\n"
          ]
        }
      ]
    },
    {
      "cell_type": "code",
      "source": [
        "train.dtypes.value_counts()"
      ],
      "metadata": {
        "colab": {
          "base_uri": "https://localhost:8080/"
        },
        "id": "EC7ggnk_-loU",
        "outputId": "56610206-7c1b-4d48-af75-c4b41786cd7a"
      },
      "execution_count": null,
      "outputs": [
        {
          "output_type": "execute_result",
          "data": {
            "text/plain": [
              "int64      8\n",
              "float64    4\n",
              "dtype: int64"
            ]
          },
          "metadata": {},
          "execution_count": 116
        }
      ]
    },
    {
      "cell_type": "code",
      "source": [
        "train.info()\n",
        "#print(train)"
      ],
      "metadata": {
        "colab": {
          "base_uri": "https://localhost:8080/"
        },
        "id": "YAppuYoj-lre",
        "outputId": "e2bd6f5d-e206-4a52-bb6b-06cb6596e105"
      },
      "execution_count": null,
      "outputs": [
        {
          "output_type": "stream",
          "name": "stdout",
          "text": [
            "<class 'pandas.core.frame.DataFrame'>\n",
            "RangeIndex: 150000 entries, 0 to 149999\n",
            "Data columns (total 12 columns):\n",
            " #   Column                                Non-Null Count   Dtype  \n",
            "---  ------                                --------------   -----  \n",
            " 0   Unnamed: 0                            150000 non-null  int64  \n",
            " 1   SeriousDlqin2yrs                      150000 non-null  int64  \n",
            " 2   RevolvingUtilizationOfUnsecuredLines  150000 non-null  float64\n",
            " 3   age                                   150000 non-null  int64  \n",
            " 4   NumberOfTime30-59DaysPastDueNotWorse  150000 non-null  int64  \n",
            " 5   DebtRatio                             150000 non-null  float64\n",
            " 6   MonthlyIncome                         120269 non-null  float64\n",
            " 7   NumberOfOpenCreditLinesAndLoans       150000 non-null  int64  \n",
            " 8   NumberOfTimes90DaysLate               150000 non-null  int64  \n",
            " 9   NumberRealEstateLoansOrLines          150000 non-null  int64  \n",
            " 10  NumberOfTime60-89DaysPastDueNotWorse  150000 non-null  int64  \n",
            " 11  NumberOfDependents                    146076 non-null  float64\n",
            "dtypes: float64(4), int64(8)\n",
            "memory usage: 13.7 MB\n"
          ]
        }
      ]
    },
    {
      "cell_type": "code",
      "source": [
        "train = train.dropna()\n",
        "\n",
        "train = train.drop(columns = ['Unnamed: 0'])\n",
        "#train['binary_income'] = 0\n",
        "#med = train['MonthlyIncome'].median()\n",
        "\n",
        "\n",
        "#med = train['MonthlyIncome'].median()\n",
        "\n",
        "#med_['binary_income'] = 0\n",
        "#print(med_)\n",
        "#med_ =\n",
        "\n",
        "print(train.head())\n",
        "#print(train.shape)\n"
      ],
      "metadata": {
        "colab": {
          "base_uri": "https://localhost:8080/"
        },
        "id": "e_c8YkXm-ltR",
        "outputId": "fcc25e76-d800-49bc-df34-3f5cafc36f31"
      },
      "execution_count": null,
      "outputs": [
        {
          "output_type": "stream",
          "name": "stdout",
          "text": [
            "   SeriousDlqin2yrs  RevolvingUtilizationOfUnsecuredLines  age  \\\n",
            "0                 1                              0.766127   45   \n",
            "1                 0                              0.957151   40   \n",
            "2                 0                              0.658180   38   \n",
            "3                 0                              0.233810   30   \n",
            "4                 0                              0.907239   49   \n",
            "\n",
            "   NumberOfTime30-59DaysPastDueNotWorse  DebtRatio  MonthlyIncome  \\\n",
            "0                                     2   0.802982         9120.0   \n",
            "1                                     0   0.121876         2600.0   \n",
            "2                                     1   0.085113         3042.0   \n",
            "3                                     0   0.036050         3300.0   \n",
            "4                                     1   0.024926        63588.0   \n",
            "\n",
            "   NumberOfOpenCreditLinesAndLoans  NumberOfTimes90DaysLate  \\\n",
            "0                               13                        0   \n",
            "1                                4                        0   \n",
            "2                                2                        1   \n",
            "3                                5                        0   \n",
            "4                                7                        0   \n",
            "\n",
            "   NumberRealEstateLoansOrLines  NumberOfTime60-89DaysPastDueNotWorse  \\\n",
            "0                             6                                     0   \n",
            "1                             0                                     0   \n",
            "2                             0                                     0   \n",
            "3                             0                                     0   \n",
            "4                             1                                     0   \n",
            "\n",
            "   NumberOfDependents  \n",
            "0                 2.0  \n",
            "1                 1.0  \n",
            "2                 0.0  \n",
            "3                 0.0  \n",
            "4                 0.0  \n"
          ]
        }
      ]
    },
    {
      "cell_type": "code",
      "source": [
        "import numpy as np\n",
        "features = train.columns.values[0:30]\n",
        "#print(features)\n",
        "unique_max_train = []\n",
        "unique_max_test = []\n",
        "for feature in features:\n",
        "    values = train[feature].value_counts()\n",
        "    unique_max_train.append([feature, values.max(), values.idxmax()])\n",
        "\n",
        "np.transpose((pd.DataFrame(unique_max_train, columns=['Feature', 'Max duplicates', 'Value'])).\\\n",
        "            sort_values(by = 'Max duplicates', ascending=False).head(15))\n",
        "#print(train[train['NumberOfDependents']== 20.0])\n",
        "#print(values)"
      ],
      "metadata": {
        "colab": {
          "base_uri": "https://localhost:8080/",
          "height": 242
        },
        "id": "c_ZC66rO_550",
        "outputId": "47409967-5246-41bc-f7c3-cd3f63c649c0"
      },
      "execution_count": null,
      "outputs": [
        {
          "output_type": "execute_result",
          "data": {
            "text/plain": [
              "                                                  9                        7   \\\n",
              "Feature         NumberOfTime60-89DaysPastDueNotWorse  NumberOfTimes90DaysLate   \n",
              "Max duplicates                                113994                   113544   \n",
              "Value                                            0.0                      0.0   \n",
              "\n",
              "                              0                                     3   \\\n",
              "Feature         SeriousDlqin2yrs  NumberOfTime30-59DaysPastDueNotWorse   \n",
              "Max duplicates            111912                                 99970   \n",
              "Value                        0.0                                   0.0   \n",
              "\n",
              "                                10                            8   \\\n",
              "Feature         NumberOfDependents  NumberRealEstateLoansOrLines   \n",
              "Max duplicates               65456                         43430   \n",
              "Value                          0.0                           0.0   \n",
              "\n",
              "                                             6   \\\n",
              "Feature         NumberOfOpenCreditLinesAndLoans   \n",
              "Max duplicates                            10810   \n",
              "Value                                       6.0   \n",
              "\n",
              "                                                  1     2              5   \\\n",
              "Feature         RevolvingUtilizationOfUnsecuredLines   age  MonthlyIncome   \n",
              "Max duplicates                                  7871  3217           2757   \n",
              "Value                                            0.0  49.0         5000.0   \n",
              "\n",
              "                       4   \n",
              "Feature         DebtRatio  \n",
              "Max duplicates       2491  \n",
              "Value                 0.0  "
            ],
            "text/html": [
              "\n",
              "  <div id=\"df-360837c8-8fae-4052-abc8-a5dc5220d8dd\">\n",
              "    <div class=\"colab-df-container\">\n",
              "      <div>\n",
              "<style scoped>\n",
              "    .dataframe tbody tr th:only-of-type {\n",
              "        vertical-align: middle;\n",
              "    }\n",
              "\n",
              "    .dataframe tbody tr th {\n",
              "        vertical-align: top;\n",
              "    }\n",
              "\n",
              "    .dataframe thead th {\n",
              "        text-align: right;\n",
              "    }\n",
              "</style>\n",
              "<table border=\"1\" class=\"dataframe\">\n",
              "  <thead>\n",
              "    <tr style=\"text-align: right;\">\n",
              "      <th></th>\n",
              "      <th>9</th>\n",
              "      <th>7</th>\n",
              "      <th>0</th>\n",
              "      <th>3</th>\n",
              "      <th>10</th>\n",
              "      <th>8</th>\n",
              "      <th>6</th>\n",
              "      <th>1</th>\n",
              "      <th>2</th>\n",
              "      <th>5</th>\n",
              "      <th>4</th>\n",
              "    </tr>\n",
              "  </thead>\n",
              "  <tbody>\n",
              "    <tr>\n",
              "      <th>Feature</th>\n",
              "      <td>NumberOfTime60-89DaysPastDueNotWorse</td>\n",
              "      <td>NumberOfTimes90DaysLate</td>\n",
              "      <td>SeriousDlqin2yrs</td>\n",
              "      <td>NumberOfTime30-59DaysPastDueNotWorse</td>\n",
              "      <td>NumberOfDependents</td>\n",
              "      <td>NumberRealEstateLoansOrLines</td>\n",
              "      <td>NumberOfOpenCreditLinesAndLoans</td>\n",
              "      <td>RevolvingUtilizationOfUnsecuredLines</td>\n",
              "      <td>age</td>\n",
              "      <td>MonthlyIncome</td>\n",
              "      <td>DebtRatio</td>\n",
              "    </tr>\n",
              "    <tr>\n",
              "      <th>Max duplicates</th>\n",
              "      <td>113994</td>\n",
              "      <td>113544</td>\n",
              "      <td>111912</td>\n",
              "      <td>99970</td>\n",
              "      <td>65456</td>\n",
              "      <td>43430</td>\n",
              "      <td>10810</td>\n",
              "      <td>7871</td>\n",
              "      <td>3217</td>\n",
              "      <td>2757</td>\n",
              "      <td>2491</td>\n",
              "    </tr>\n",
              "    <tr>\n",
              "      <th>Value</th>\n",
              "      <td>0.0</td>\n",
              "      <td>0.0</td>\n",
              "      <td>0.0</td>\n",
              "      <td>0.0</td>\n",
              "      <td>0.0</td>\n",
              "      <td>0.0</td>\n",
              "      <td>6.0</td>\n",
              "      <td>0.0</td>\n",
              "      <td>49.0</td>\n",
              "      <td>5000.0</td>\n",
              "      <td>0.0</td>\n",
              "    </tr>\n",
              "  </tbody>\n",
              "</table>\n",
              "</div>\n",
              "      <button class=\"colab-df-convert\" onclick=\"convertToInteractive('df-360837c8-8fae-4052-abc8-a5dc5220d8dd')\"\n",
              "              title=\"Convert this dataframe to an interactive table.\"\n",
              "              style=\"display:none;\">\n",
              "        \n",
              "  <svg xmlns=\"http://www.w3.org/2000/svg\" height=\"24px\"viewBox=\"0 0 24 24\"\n",
              "       width=\"24px\">\n",
              "    <path d=\"M0 0h24v24H0V0z\" fill=\"none\"/>\n",
              "    <path d=\"M18.56 5.44l.94 2.06.94-2.06 2.06-.94-2.06-.94-.94-2.06-.94 2.06-2.06.94zm-11 1L8.5 8.5l.94-2.06 2.06-.94-2.06-.94L8.5 2.5l-.94 2.06-2.06.94zm10 10l.94 2.06.94-2.06 2.06-.94-2.06-.94-.94-2.06-.94 2.06-2.06.94z\"/><path d=\"M17.41 7.96l-1.37-1.37c-.4-.4-.92-.59-1.43-.59-.52 0-1.04.2-1.43.59L10.3 9.45l-7.72 7.72c-.78.78-.78 2.05 0 2.83L4 21.41c.39.39.9.59 1.41.59.51 0 1.02-.2 1.41-.59l7.78-7.78 2.81-2.81c.8-.78.8-2.07 0-2.86zM5.41 20L4 18.59l7.72-7.72 1.47 1.35L5.41 20z\"/>\n",
              "  </svg>\n",
              "      </button>\n",
              "      \n",
              "  <style>\n",
              "    .colab-df-container {\n",
              "      display:flex;\n",
              "      flex-wrap:wrap;\n",
              "      gap: 12px;\n",
              "    }\n",
              "\n",
              "    .colab-df-convert {\n",
              "      background-color: #E8F0FE;\n",
              "      border: none;\n",
              "      border-radius: 50%;\n",
              "      cursor: pointer;\n",
              "      display: none;\n",
              "      fill: #1967D2;\n",
              "      height: 32px;\n",
              "      padding: 0 0 0 0;\n",
              "      width: 32px;\n",
              "    }\n",
              "\n",
              "    .colab-df-convert:hover {\n",
              "      background-color: #E2EBFA;\n",
              "      box-shadow: 0px 1px 2px rgba(60, 64, 67, 0.3), 0px 1px 3px 1px rgba(60, 64, 67, 0.15);\n",
              "      fill: #174EA6;\n",
              "    }\n",
              "\n",
              "    [theme=dark] .colab-df-convert {\n",
              "      background-color: #3B4455;\n",
              "      fill: #D2E3FC;\n",
              "    }\n",
              "\n",
              "    [theme=dark] .colab-df-convert:hover {\n",
              "      background-color: #434B5C;\n",
              "      box-shadow: 0px 1px 3px 1px rgba(0, 0, 0, 0.15);\n",
              "      filter: drop-shadow(0px 1px 2px rgba(0, 0, 0, 0.3));\n",
              "      fill: #FFFFFF;\n",
              "    }\n",
              "  </style>\n",
              "\n",
              "      <script>\n",
              "        const buttonEl =\n",
              "          document.querySelector('#df-360837c8-8fae-4052-abc8-a5dc5220d8dd button.colab-df-convert');\n",
              "        buttonEl.style.display =\n",
              "          google.colab.kernel.accessAllowed ? 'block' : 'none';\n",
              "\n",
              "        async function convertToInteractive(key) {\n",
              "          const element = document.querySelector('#df-360837c8-8fae-4052-abc8-a5dc5220d8dd');\n",
              "          const dataTable =\n",
              "            await google.colab.kernel.invokeFunction('convertToInteractive',\n",
              "                                                     [key], {});\n",
              "          if (!dataTable) return;\n",
              "\n",
              "          const docLinkHtml = 'Like what you see? Visit the ' +\n",
              "            '<a target=\"_blank\" href=https://colab.research.google.com/notebooks/data_table.ipynb>data table notebook</a>'\n",
              "            + ' to learn more about interactive tables.';\n",
              "          element.innerHTML = '';\n",
              "          dataTable['output_type'] = 'display_data';\n",
              "          await google.colab.output.renderOutput(dataTable, element);\n",
              "          const docLink = document.createElement('div');\n",
              "          docLink.innerHTML = docLinkHtml;\n",
              "          element.appendChild(docLink);\n",
              "        }\n",
              "      </script>\n",
              "    </div>\n",
              "  </div>\n",
              "  "
            ]
          },
          "metadata": {},
          "execution_count": 119
        }
      ]
    },
    {
      "cell_type": "code",
      "source": [
        "train.SeriousDlqin2yrs.value_counts()"
      ],
      "metadata": {
        "colab": {
          "base_uri": "https://localhost:8080/"
        },
        "id": "5ZL2ccIc_6C0",
        "outputId": "b6430a69-0fcc-467f-f9ae-2a77a15a533c"
      },
      "execution_count": null,
      "outputs": [
        {
          "output_type": "execute_result",
          "data": {
            "text/plain": [
              "0    111912\n",
              "1      8357\n",
              "Name: SeriousDlqin2yrs, dtype: int64"
            ]
          },
          "metadata": {},
          "execution_count": 120
        }
      ]
    },
    {
      "cell_type": "code",
      "source": [
        "train_X = train.drop([\"SeriousDlqin2yrs\"], axis=1)\n",
        "train_y = np.log1p(train[\"SeriousDlqin2yrs\"].values)\n",
        "print(train_y)\n",
        "#train['MonthlyIncome'].fillna(train['MonthlyIncome'].median(), inplace=True)\n",
        "\"\"\"print(train['MonthlyIncome'].median())\n",
        "print(train['MonthlyIncome'].mean())\n",
        "med = train['MonthlyIncome'].median()\n",
        "med_ = train[train['MonthlyIncome'] <= med]\n",
        "med1 = train[train['MonthlyIncome'] > med]\n",
        "print(med_.shape)\n",
        "print(med1.shape)\"\"\""
      ],
      "metadata": {
        "colab": {
          "base_uri": "https://localhost:8080/",
          "height": 72
        },
        "id": "W6LjUTIwAD9N",
        "outputId": "8ccd9be4-c27a-4b2b-ed1a-5e573a5f64ff"
      },
      "execution_count": null,
      "outputs": [
        {
          "output_type": "stream",
          "name": "stdout",
          "text": [
            "[0.69314718 0.         0.         ... 0.         0.         0.        ]\n"
          ]
        },
        {
          "output_type": "execute_result",
          "data": {
            "text/plain": [
              "\"print(train['MonthlyIncome'].median())\\nprint(train['MonthlyIncome'].mean())\\nmed = train['MonthlyIncome'].median()\\nmed_ = train[train['MonthlyIncome'] <= med] \\nmed1 = train[train['MonthlyIncome'] > med] \\nprint(med_.shape) \\nprint(med1.shape)\""
            ],
            "application/vnd.google.colaboratory.intrinsic+json": {
              "type": "string"
            }
          },
          "metadata": {},
          "execution_count": 121
        }
      ]
    },
    {
      "cell_type": "code",
      "source": [
        "from sklearn import ensemble\n",
        "model = ensemble.ExtraTreesRegressor(n_estimators=200, max_depth=20, max_features=0.5, n_jobs=-1, random_state=0)\n",
        "model.fit(train_X, train_y)\n",
        "\n",
        "## plotando as importâncias ##\n",
        "feat_names = train_X.columns.values\n",
        "importances = model.feature_importances_\n",
        "std = np.std([tree.feature_importances_ for tree in model.estimators_], axis=0)\n",
        "indices = np.argsort(importances)[::-1][:20]\n",
        "\n",
        "plt.figure(figsize=(12,12))\n",
        "plt.title(\"Feature importances\")\n",
        "plt.bar(range(len(indices)), importances[indices], color=\"r\", yerr=std[indices], align=\"center\")\n",
        "plt.xticks(range(len(indices)), feat_names[indices], rotation='vertical')\n",
        "plt.xlim([-1, len(indices)])\n",
        "plt.show()"
      ],
      "metadata": {
        "colab": {
          "base_uri": "https://localhost:8080/",
          "height": 925
        },
        "id": "m_CLjR5YAEDb",
        "outputId": "82660798-f0ed-4dd3-a793-93acaf549c0a"
      },
      "execution_count": null,
      "outputs": [
        {
          "output_type": "display_data",
          "data": {
            "text/plain": [
              "<Figure size 864x864 with 1 Axes>"
            ],
            "image/png": "[encoded data removed]"
          },
          "metadata": {
            "needs_background": "light"
          }
        }
      ]
    },
    {
      "cell_type": "code",
      "source": [
        "def plot_roc(y_test,prob):\n",
        "    fpr, tpr, thresholds = roc_curve(y_test, probs)\n",
        "    # plot no skill\n",
        "    plt.plot([0, 1], [0, 1], linestyle='--')\n",
        "    # plot the roc curve for the model\n",
        "    plt.plot(fpr, tpr, marker='.')\n",
        "    plt.title(\"ROC curve\")\n",
        "    plt.xlabel('false positive rate')\n",
        "    plt.ylabel('true positive rate')\n",
        "    # show the plot\n",
        "    plt.show()"
      ],
      "metadata": {
        "id": "xCIUb6Y2AEEy"
      },
      "execution_count": null,
      "outputs": []
    },
    {
      "cell_type": "code",
      "source": [
        "def logistic(X,y):\n",
        "    y_train=train['SeriousDlqin2yrs'].astype('uint8')\n",
        "    X_train,X_test,y_train,y_test=train_test_split(train.drop('SeriousDlqin2yrs',axis=1),y_train,test_size=.2,random_state=2020)\n",
        "    lr=LogisticRegression()\n",
        "    lr.fit(X_train,y_train)\n",
        "    prob=lr.predict_proba(X_test)\n",
        "\n",
        "    roc=roc_auc_score(y_test, lr.predict_proba(X_test)[:,1])\n",
        "    print('roc ',roc)\n",
        "    print('lr', lr.fit(X_train,y_train))\n",
        "    #print('X_train', X_train)\n",
        "\n",
        "    print('X_Test', X_test)\n",
        "    print('prob', prob)\n",
        "    #print('prob', prob[:,1])\"\"\"\n",
        "    print('y_train', y_train)\n",
        "\n",
        "    return (prob[:,1],y_test)\n",
        "y_train=train['SeriousDlqin2yrs'].astype('uint8')\n",
        "probs,y_test=logistic(train.drop('SeriousDlqin2yrs',axis=1),y_train)\n",
        "print('test',y_test)\n",
        "#print(y_train)\n",
        "#print(train['SeriousDlqin2yrs'])"
      ],
      "metadata": {
        "colab": {
          "base_uri": "https://localhost:8080/"
        },
        "id": "Ju9MWZUxAEJb",
        "outputId": "b792b419-e02a-4063-bf1e-4aba6f80cc4b"
      },
      "execution_count": null,
      "outputs": [
        {
          "output_type": "stream",
          "name": "stderr",
          "text": [
            "/usr/local/lib/python3.7/dist-packages/sklearn/linear_model/_logistic.py:818: ConvergenceWarning: lbfgs failed to converge (status=1):\n",
            "STOP: TOTAL NO. of ITERATIONS REACHED LIMIT.\n",
            "\n",
            "Increase the number of iterations (max_iter) or scale the data as shown in:\n",
            "    https://scikit-learn.org/stable/modules/preprocessing.html\n",
            "Please also refer to the documentation for alternative solver options:\n",
            "    https://scikit-learn.org/stable/modules/linear_model.html#logistic-regression\n",
            "  extra_warning_msg=_LOGISTIC_SOLVER_CONVERGENCE_MSG,\n"
          ]
        },
        {
          "output_type": "stream",
          "name": "stdout",
          "text": [
            "roc  0.6662572612580925\n",
            "lr LogisticRegression()\n",
            "X_Test         RevolvingUtilizationOfUnsecuredLines  age  \\\n",
            "50049                               0.000000   77   \n",
            "73150                               0.087512   70   \n",
            "32901                               0.200307   66   \n",
            "57364                               0.691417   38   \n",
            "148096                              0.019646   27   \n",
            "...                                      ...  ...   \n",
            "4245                                0.179039   61   \n",
            "77263                               0.718208   39   \n",
            "104475                              0.048748   63   \n",
            "59890                               0.245824   50   \n",
            "95926                               0.000000   54   \n",
            "\n",
            "        NumberOfTime30-59DaysPastDueNotWorse  DebtRatio  MonthlyIncome  \\\n",
            "50049                                      0   0.000000         1510.0   \n",
            "73150                                      0   0.399546         4842.0   \n",
            "32901                                      0   0.279738        43000.0   \n",
            "57364                                      2   0.654469         5000.0   \n",
            "148096                                     0   0.009369         1600.0   \n",
            "...                                      ...        ...            ...   \n",
            "4245                                       0   0.437113         5000.0   \n",
            "77263                                      0   0.195979         4525.0   \n",
            "104475                                     0   0.067506         3732.0   \n",
            "59890                                      0   0.249782        12630.0   \n",
            "95926                                      0   0.334888         3000.0   \n",
            "\n",
            "        NumberOfOpenCreditLinesAndLoans  NumberOfTimes90DaysLate  \\\n",
            "50049                                 6                        0   \n",
            "73150                                 4                        0   \n",
            "32901                                28                        0   \n",
            "57364                                 6                        0   \n",
            "148096                               12                        0   \n",
            "...                                 ...                      ...   \n",
            "4245                                 11                        0   \n",
            "77263                                 6                        0   \n",
            "104475                                7                        0   \n",
            "59890                                16                        0   \n",
            "95926                                 7                        0   \n",
            "\n",
            "        NumberRealEstateLoansOrLines  NumberOfTime60-89DaysPastDueNotWorse  \\\n",
            "50049                              0                                     0   \n",
            "73150                              2                                     0   \n",
            "32901                              6                                     0   \n",
            "57364                              1                                     0   \n",
            "148096                             0                                     0   \n",
            "...                              ...                                   ...   \n",
            "4245                               1                                     0   \n",
            "77263                              0                                     0   \n",
            "104475                             0                                     0   \n",
            "59890                              1                                     0   \n",
            "95926                              1                                     0   \n",
            "\n",
            "        NumberOfDependents  \n",
            "50049                  0.0  \n",
            "73150                  0.0  \n",
            "32901                  1.0  \n",
            "57364                  0.0  \n",
            "148096                 0.0  \n",
            "...                    ...  \n",
            "4245                   0.0  \n",
            "77263                  0.0  \n",
            "104475                 0.0  \n",
            "59890                  0.0  \n",
            "95926                  2.0  \n",
            "\n",
            "[24054 rows x 10 columns]\n",
            "prob [[0.98485522 0.01514478]\n",
            " [0.98049038 0.01950962]\n",
            " [0.99322668 0.00677332]\n",
            " ...\n",
            " [0.97123259 0.02876741]\n",
            " [0.95258568 0.04741432]\n",
            " [0.94133979 0.05866021]]\n",
            "y_train 68847     0\n",
            "120723    0\n",
            "144716    0\n",
            "122663    1\n",
            "65503     0\n",
            "         ..\n",
            "55858     0\n",
            "141299    0\n",
            "50317     0\n",
            "77076     0\n",
            "52276     0\n",
            "Name: SeriousDlqin2yrs, Length: 96215, dtype: uint8\n",
            "test 50049     0\n",
            "73150     0\n",
            "32901     0\n",
            "57364     0\n",
            "148096    0\n",
            "         ..\n",
            "4245      0\n",
            "77263     0\n",
            "104475    0\n",
            "59890     0\n",
            "95926     0\n",
            "Name: SeriousDlqin2yrs, Length: 24054, dtype: uint8\n"
          ]
        },
        {
          "output_type": "stream",
          "name": "stderr",
          "text": [
            "/usr/local/lib/python3.7/dist-packages/sklearn/linear_model/_logistic.py:818: ConvergenceWarning: lbfgs failed to converge (status=1):\n",
            "STOP: TOTAL NO. of ITERATIONS REACHED LIMIT.\n",
            "\n",
            "Increase the number of iterations (max_iter) or scale the data as shown in:\n",
            "    https://scikit-learn.org/stable/modules/preprocessing.html\n",
            "Please also refer to the documentation for alternative solver options:\n",
            "    https://scikit-learn.org/stable/modules/linear_model.html#logistic-regression\n",
            "  extra_warning_msg=_LOGISTIC_SOLVER_CONVERGENCE_MSG,\n"
          ]
        }
      ]
    },
    {
      "cell_type": "code",
      "source": [
        "\"\"\"print(probs)\n",
        "print(y_train.head(15))\n",
        "print(train)\"\"\"\n",
        "#print(train.drop('SeriousDlqin2yrs',axis=1))\n",
        "#print(roc_curve(y_test,probs))\n",
        "fpr1, tpr1, thresholds1 = roc_curve(y_test,probs)\n",
        "print(fpr1)\n",
        "print(tpr1)\n",
        "plt.plot(fpr1)\n",
        "plt.plot(tpr1)\n",
        "#plt.plot(fpr1, tpr1)"
      ],
      "metadata": {
        "colab": {
          "base_uri": "https://localhost:8080/",
          "height": 355
        },
        "id": "Lu-Wtd5MOhGY",
        "outputId": "750704e5-ead8-448e-ccf6-0be2fc42a721"
      },
      "execution_count": null,
      "outputs": [
        {
          "output_type": "stream",
          "name": "stdout",
          "text": [
            "[0.00000000e+00 0.00000000e+00 4.46967327e-05 ... 9.98614401e-01\n",
            " 9.98614401e-01 1.00000000e+00]\n",
            "[0.00000000e+00 5.94883998e-04 5.94883998e-04 ... 9.99405116e-01\n",
            " 1.00000000e+00 1.00000000e+00]\n"
          ]
        },
        {
          "output_type": "execute_result",
          "data": {
            "text/plain": [
              "[<matplotlib.lines.Line2D at 0x7f8386689b10>]"
            ]
          },
          "metadata": {},
          "execution_count": 125
        },
        {
          "output_type": "display_data",
          "data": {
            "text/plain": [
              "<Figure size 432x288 with 1 Axes>"
            ],
            "image/png": "[encoded data removed]"
          },
          "metadata": {
            "needs_background": "light"
          }
        }
      ]
    },
    {
      "cell_type": "code",
      "source": [
        "plot_roc(y_test,probs)"
      ],
      "metadata": {
        "colab": {
          "base_uri": "https://localhost:8080/",
          "height": 295
        },
        "id": "vaw3SLbQAX6r",
        "outputId": "3557a93b-b6cf-4ec4-ee11-847e84163bee"
      },
      "execution_count": null,
      "outputs": [
        {
          "output_type": "display_data",
          "data": {
            "text/plain": [
              "<Figure size 432x288 with 1 Axes>"
            ],
            "image/png": "[encoded data removed]"
          },
          "metadata": {
            "needs_background": "light"
          }
        }
      ]
    },
    {
      "cell_type": "code",
      "source": [
        "train_x, val_x, train_y, val_y=train_test_split(train.drop('SeriousDlqin2yrs',axis=1),y_train,test_size=.2,random_state=2020)\n",
        "print(y_train)\n",
        "clf = LogisticRegression(solver=\"lbfgs\").fit(train_x, train_y)\n",
        "pred_y = clf.predict(val_x)\n",
        "#print('x',train_x)\n",
        "#print('y',train_y)\n",
        "print('u', val_y)\n",
        "#print(clf)\n",
        "print('pred', pred_y)\n",
        "#print(val_x)"
      ],
      "metadata": {
        "colab": {
          "base_uri": "https://localhost:8080/"
        },
        "id": "T0Goof3WAYD7",
        "outputId": "248faa17-77d9-4776-ea92-49c5b0b4a569"
      },
      "execution_count": null,
      "outputs": [
        {
          "output_type": "stream",
          "name": "stdout",
          "text": [
            "0         1\n",
            "1         0\n",
            "2         0\n",
            "3         0\n",
            "4         0\n",
            "         ..\n",
            "149994    0\n",
            "149995    0\n",
            "149996    0\n",
            "149998    0\n",
            "149999    0\n",
            "Name: SeriousDlqin2yrs, Length: 120269, dtype: uint8\n",
            "u 50049     0\n",
            "73150     0\n",
            "32901     0\n",
            "57364     0\n",
            "148096    0\n",
            "         ..\n",
            "4245      0\n",
            "77263     0\n",
            "104475    0\n",
            "59890     0\n",
            "95926     0\n",
            "Name: SeriousDlqin2yrs, Length: 24054, dtype: uint8\n",
            "pred [0 0 0 ... 0 0 0]\n"
          ]
        },
        {
          "output_type": "stream",
          "name": "stderr",
          "text": [
            "/usr/local/lib/python3.7/dist-packages/sklearn/linear_model/_logistic.py:818: ConvergenceWarning: lbfgs failed to converge (status=1):\n",
            "STOP: TOTAL NO. of ITERATIONS REACHED LIMIT.\n",
            "\n",
            "Increase the number of iterations (max_iter) or scale the data as shown in:\n",
            "    https://scikit-learn.org/stable/modules/preprocessing.html\n",
            "Please also refer to the documentation for alternative solver options:\n",
            "    https://scikit-learn.org/stable/modules/linear_model.html#logistic-regression\n",
            "  extra_warning_msg=_LOGISTIC_SOLVER_CONVERGENCE_MSG,\n"
          ]
        }
      ]
    },
    {
      "cell_type": "code",
      "source": [
        "rocrl=roc_auc_score(val_y, pred_y)\n",
        "rocrl"
      ],
      "metadata": {
        "colab": {
          "base_uri": "https://localhost:8080/"
        },
        "id": "cfuUT8S_Acr8",
        "outputId": "330dbf9b-339c-48dc-b324-7260424142e5"
      },
      "execution_count": null,
      "outputs": [
        {
          "output_type": "execute_result",
          "data": {
            "text/plain": [
              "0.5041934495861404"
            ]
          },
          "metadata": {},
          "execution_count": 128
        }
      ]
    },
    {
      "cell_type": "code",
      "source": [
        "plot_roc(val_y, pred_y)\n",
        "#print(val_y)\n",
        "print(pred_y)"
      ],
      "metadata": {
        "colab": {
          "base_uri": "https://localhost:8080/",
          "height": 313
        },
        "id": "CPO_d4DfAct1",
        "outputId": "7a6e3634-fce3-4c93-e7aa-3733ed957b02"
      },
      "execution_count": null,
      "outputs": [
        {
          "output_type": "display_data",
          "data": {
            "text/plain": [
              "<Figure size 432x288 with 1 Axes>"
            ],
            "image/png": "[encoded data removed]"
          },
          "metadata": {
            "needs_background": "light"
          }
        },
        {
          "output_type": "stream",
          "name": "stdout",
          "text": [
            "[0 0 0 ... 0 0 0]\n"
          ]
        }
      ]
    },
    {
      "cell_type": "code",
      "source": [
        "%%time\n",
        "model = RandomForestClassifier(n_estimators=220).fit(train_x,train_y)\n",
        "predictionforest = model.predict(val_x)"
      ],
      "metadata": {
        "colab": {
          "base_uri": "https://localhost:8080/"
        },
        "id": "VY69hk3pAcxT",
        "outputId": "7c4e93c4-8951-48b1-d28a-f25c62b3c33e"
      },
      "execution_count": null,
      "outputs": [
        {
          "output_type": "stream",
          "name": "stdout",
          "text": [
            "CPU times: user 50.6 s, sys: 200 ms, total: 50.8 s\n",
            "Wall time: 50.7 s\n"
          ]
        }
      ]
    },
    {
      "cell_type": "code",
      "source": [
        "%%time\n",
        "rocrf=roc_auc_score(val_y, predictionforest)\n",
        "print('roc ',rocrf)"
      ],
      "metadata": {
        "colab": {
          "base_uri": "https://localhost:8080/"
        },
        "id": "nm4fNA-EAczG",
        "outputId": "f3c1ada6-7f2d-46cb-d605-9fcbe70dbc8e"
      },
      "execution_count": null,
      "outputs": [
        {
          "output_type": "stream",
          "name": "stdout",
          "text": [
            "roc  0.5864789246130975\n",
            "CPU times: user 9.18 ms, sys: 1 ms, total: 10.2 ms\n",
            "Wall time: 14.9 ms\n"
          ]
        }
      ]
    },
    {
      "cell_type": "code",
      "source": [
        "plot_roc(val_y, predictionforest)"
      ],
      "metadata": {
        "colab": {
          "base_uri": "https://localhost:8080/",
          "height": 295
        },
        "id": "FhFwZ72oAc2e",
        "outputId": "e16e2c7b-0a40-4f72-e9d6-54085e5861e9"
      },
      "execution_count": null,
      "outputs": [
        {
          "output_type": "display_data",
          "data": {
            "text/plain": [
              "<Figure size 432x288 with 1 Axes>"
            ],
            "image/png": "[encoded data removed]"
          },
          "metadata": {
            "needs_background": "light"
          }
        }
      ]
    },
    {
      "cell_type": "code",
      "source": [
        "xgb_cfl = xgb.XGBClassifier(n_jobs = -1,\n",
        "                            n_estimators = 220)\n",
        "\n",
        "xgb_cfl.fit(train_x, train_y)\n",
        "y_scorexgb = xgb_cfl.predict_proba(val_x)[:,1]"
      ],
      "metadata": {
        "id": "n8pXWbv5Ac5Y"
      },
      "execution_count": null,
      "outputs": []
    },
    {
      "cell_type": "code",
      "source": [
        "rocxgb=roc_auc_score(val_y, y_scorexgb)\n",
        "print('roc ',rocxgb)"
      ],
      "metadata": {
        "colab": {
          "base_uri": "https://localhost:8080/"
        },
        "id": "vMbfOxMwAc7m",
        "outputId": "724b1712-8395-4842-a406-158eb1bdcf4a"
      },
      "execution_count": null,
      "outputs": [
        {
          "output_type": "stream",
          "name": "stdout",
          "text": [
            "roc  0.8649623562309385\n"
          ]
        }
      ]
    },
    {
      "cell_type": "code",
      "source": [
        "plot_roc(val_y, y_scorexgb)\n"
      ],
      "metadata": {
        "colab": {
          "base_uri": "https://localhost:8080/",
          "height": 295
        },
        "id": "8iYigM8iAzWF",
        "outputId": "00d580dd-ec31-4a3b-aec7-c1cfd3fec0f7"
      },
      "execution_count": null,
      "outputs": [
        {
          "output_type": "display_data",
          "data": {
            "text/plain": [
              "<Figure size 432x288 with 1 Axes>"
            ],
            "image/png": "[encoded data removed]"
          },
          "metadata": {
            "needs_background": "light"
          }
        }
      ]
    },
    {
      "cell_type": "code",
      "source": [
        "xgb_cfl = xgb.XGBClassifier(n_jobs = -1)\n",
        "xgb_cfl.fit(train_x, train_y)\n",
        "y_pred = xgb_cfl.predict(val_x)\n",
        "y_score = xgb_cfl.predict_proba(val_x)[:,1]"
      ],
      "metadata": {
        "id": "l2iQ-cusAzaX"
      },
      "execution_count": null,
      "outputs": []
    },
    {
      "cell_type": "code",
      "source": [
        "%%time\n",
        "param_grid = {\n",
        "            'n_estimators': [50, 100, 200]\n",
        "              }\n",
        "\n",
        "CV_xgb_cfl = GridSearchCV(estimator = xgb_cfl, param_grid = param_grid, scoring ='roc_auc', verbose = 2)\n",
        "CV_xgb_cfl.fit(train_x, train_y)\n",
        "\n",
        "best_parameters = CV_xgb_cfl.best_params_\n",
        "print(\"The best parameters: \", best_parameters)"
      ],
      "metadata": {
        "colab": {
          "base_uri": "https://localhost:8080/"
        },
        "id": "1c6qDCxxAzcU",
        "outputId": "b684d272-e4ec-4e31-f5c9-c6cd30feda53"
      },
      "execution_count": null,
      "outputs": [
        {
          "output_type": "stream",
          "name": "stdout",
          "text": [
            "Fitting 5 folds for each of 3 candidates, totalling 15 fits\n",
            "[CV] END ....................................n_estimators=50; total time=   2.1s\n",
            "[CV] END ....................................n_estimators=50; total time=   2.0s\n",
            "[CV] END ....................................n_estimators=50; total time=   2.0s\n",
            "[CV] END ....................................n_estimators=50; total time=   2.0s\n",
            "[CV] END ....................................n_estimators=50; total time=   2.0s\n",
            "[CV] END ...................................n_estimators=100; total time=   3.9s\n",
            "[CV] END ...................................n_estimators=100; total time=   3.9s\n",
            "[CV] END ...................................n_estimators=100; total time=   3.9s\n",
            "[CV] END ...................................n_estimators=100; total time=   3.9s\n",
            "[CV] END ...................................n_estimators=100; total time=   4.7s\n",
            "[CV] END ...................................n_estimators=200; total time=   7.7s\n",
            "[CV] END ...................................n_estimators=200; total time=   7.5s\n",
            "[CV] END ...................................n_estimators=200; total time=   7.6s\n",
            "[CV] END ...................................n_estimators=200; total time=   7.5s\n",
            "[CV] END ...................................n_estimators=200; total time=   7.7s\n",
            "The best parameters:  {'n_estimators': 200}\n",
            "CPU times: user 2min 31s, sys: 309 ms, total: 2min 31s\n",
            "Wall time: 1min 18s\n"
          ]
        }
      ]
    },
    {
      "cell_type": "code",
      "source": [
        "xgb_cfl2 = xgb.XGBClassifier(n_jobs = -1,\n",
        "                            n_estimators = 120)\n",
        "\n",
        "xgb_cfl2.fit(train_x, train_y)\n",
        "y_score2 = xgb_cfl2.predict_proba(val_x)[:,1]"
      ],
      "metadata": {
        "id": "MyQbbL_AAzgp"
      },
      "execution_count": null,
      "outputs": []
    },
    {
      "cell_type": "code",
      "source": [
        "rocxgb=roc_auc_score(val_y, y_score2)\n",
        "print('roc ',rocxgb)"
      ],
      "metadata": {
        "colab": {
          "base_uri": "https://localhost:8080/"
        },
        "id": "vPGKXwh6Ac9b",
        "outputId": "164bb088-97cc-45fa-a7bf-08428d207de6"
      },
      "execution_count": null,
      "outputs": [
        {
          "output_type": "stream",
          "name": "stdout",
          "text": [
            "roc  0.8650872730959465\n"
          ]
        }
      ]
    },
    {
      "cell_type": "code",
      "source": [
        "plot_roc(val_y, y_score2)"
      ],
      "metadata": {
        "colab": {
          "base_uri": "https://localhost:8080/",
          "height": 295
        },
        "id": "EQ8ntkvYAdBG",
        "outputId": "4d5a67b1-96b9-47fe-d940-9cdd64052933"
      },
      "execution_count": null,
      "outputs": [
        {
          "output_type": "display_data",
          "data": {
            "text/plain": [
              "<Figure size 432x288 with 1 Axes>"
            ],
            "image/png": "[encoded data removed]"
          },
          "metadata": {
            "needs_background": "light"
          }
        }
      ]
    },
    {
      "cell_type": "code",
      "source": [
        "F1 = evalBinaryClassifier(xgb_cfl2, val_x, val_y)"
      ],
      "metadata": {
        "colab": {
          "base_uri": "https://localhost:8080/",
          "height": 318
        },
        "id": "zEvxuvcBBTet",
        "outputId": "b1e7622e-ba23-4905-e747-1fab0f30ead7"
      },
      "execution_count": null,
      "outputs": [
        {
          "output_type": "display_data",
          "data": {
            "text/plain": [
              "<Figure size 1080x288 with 3 Axes>"
            ],
            "image/png": "[encoded data removed]"
          },
          "metadata": {
            "needs_background": "light"
          }
        },
        {
          "output_type": "stream",
          "name": "stdout",
          "text": [
            "Precision: 0.59 | Recall: 0.19 | F1 Score: 0.28 | \n"
          ]
        }
      ]
    },
    {
      "cell_type": "code",
      "source": [
        "## Target 1\n",
        "target1 = pd.DataFrame({\"Target\": val_y, 'Probability': y_score2 })\n",
        "print(target1)\n",
        "print(target1.loc[target1.Target == 1])\n",
        "print(target1.loc[target1.Target == 1, 'Probability'].describe())\n",
        "target1.loc[target1.Target == 1, 'Probability'].hist()"
      ],
      "metadata": {
        "id": "PmWZZoRABTvV",
        "colab": {
          "base_uri": "https://localhost:8080/",
          "height": 953
        },
        "outputId": "25a095d6-04d1-4fdf-93c6-fff759795685"
      },
      "execution_count": null,
      "outputs": [
        {
          "output_type": "stream",
          "name": "stdout",
          "text": [
            "        Target  Probability\n",
            "50049        0     0.007921\n",
            "73150        0     0.009644\n",
            "32901        0     0.018744\n",
            "57364        0     0.165411\n",
            "148096       0     0.022174\n",
            "...        ...          ...\n",
            "4245         0     0.019445\n",
            "77263        0     0.062495\n",
            "104475       0     0.008783\n",
            "59890        0     0.022072\n",
            "95926        0     0.014940\n",
            "\n",
            "[24054 rows x 2 columns]\n",
            "        Target  Probability\n",
            "94799        1     0.151564\n",
            "36732        1     0.119717\n",
            "26860        1     0.305123\n",
            "10515        1     0.266357\n",
            "27872        1     0.062084\n",
            "...        ...          ...\n",
            "110140       1     0.475414\n",
            "106141       1     0.013032\n",
            "147380       1     0.087999\n",
            "4757         1     0.044644\n",
            "90604        1     0.436363\n",
            "\n",
            "[1681 rows x 2 columns]\n",
            "count    1681.000000\n",
            "mean        0.267269\n",
            "std         0.217003\n",
            "min         0.007160\n",
            "25%         0.080286\n",
            "50%         0.201778\n",
            "75%         0.420265\n",
            "max         0.846330\n",
            "Name: Probability, dtype: float64\n"
          ]
        },
        {
          "output_type": "execute_result",
          "data": {
            "text/plain": [
              "<matplotlib.axes._subplots.AxesSubplot at 0x7f838c74a090>"
            ]
          },
          "metadata": {},
          "execution_count": 142
        },
        {
          "output_type": "display_data",
          "data": {
            "text/plain": [
              "<Figure size 432x288 with 1 Axes>"
            ],
            "image/png": "[encoded data removed]"
          },
          "metadata": {
            "needs_background": "light"
          }
        }
      ]
    },
    {
      "cell_type": "code",
      "source": [
        "test=test.drop([\"SeriousDlqin2yrs\",\"Unnamed: 0\"],1)\n",
        "print(test)"
      ],
      "metadata": {
        "id": "XXVXaDxXBTxE",
        "colab": {
          "base_uri": "https://localhost:8080/"
        },
        "outputId": "e5fd81a0-20a2-448e-c162-79819a71574d"
      },
      "execution_count": null,
      "outputs": [
        {
          "output_type": "stream",
          "name": "stdout",
          "text": [
            "        RevolvingUtilizationOfUnsecuredLines  age  \\\n",
            "0                                   0.885519   43   \n",
            "1                                   0.463295   57   \n",
            "2                                   0.043275   59   \n",
            "3                                   0.280308   38   \n",
            "4                                   1.000000   27   \n",
            "...                                      ...  ...   \n",
            "101498                              0.282653   24   \n",
            "101499                              0.922156   36   \n",
            "101500                              0.081596   70   \n",
            "101501                              0.335457   56   \n",
            "101502                              0.441842   29   \n",
            "\n",
            "        NumberOfTime30-59DaysPastDueNotWorse    DebtRatio  MonthlyIncome  \\\n",
            "0                                          0     0.177513         5700.0   \n",
            "1                                          0     0.527237         9141.0   \n",
            "2                                          0     0.687648         5083.0   \n",
            "3                                          1     0.925961         3200.0   \n",
            "4                                          0     0.019917         3865.0   \n",
            "...                                      ...          ...            ...   \n",
            "101498                                     0     0.068522         1400.0   \n",
            "101499                                     3     0.934217         7615.0   \n",
            "101500                                     0   836.000000            NaN   \n",
            "101501                                     0  3568.000000            NaN   \n",
            "101502                                     0     0.198918         5916.0   \n",
            "\n",
            "        NumberOfOpenCreditLinesAndLoans  NumberOfTimes90DaysLate  \\\n",
            "0                                     4                        0   \n",
            "1                                    15                        0   \n",
            "2                                    12                        0   \n",
            "3                                     7                        0   \n",
            "4                                     4                        0   \n",
            "...                                 ...                      ...   \n",
            "101498                                5                        0   \n",
            "101499                                8                        0   \n",
            "101500                                3                        0   \n",
            "101501                                8                        0   \n",
            "101502                               12                        0   \n",
            "\n",
            "        NumberRealEstateLoansOrLines  NumberOfTime60-89DaysPastDueNotWorse  \\\n",
            "0                                  0                                     0   \n",
            "1                                  4                                     0   \n",
            "2                                  1                                     0   \n",
            "3                                  2                                     0   \n",
            "4                                  0                                     0   \n",
            "...                              ...                                   ...   \n",
            "101498                             0                                     0   \n",
            "101499                             2                                     0   \n",
            "101500                             0                                     0   \n",
            "101501                             2                                     1   \n",
            "101502                             0                                     0   \n",
            "\n",
            "        NumberOfDependents  \n",
            "0                      0.0  \n",
            "1                      2.0  \n",
            "2                      2.0  \n",
            "3                      0.0  \n",
            "4                      1.0  \n",
            "...                    ...  \n",
            "101498                 0.0  \n",
            "101499                 4.0  \n",
            "101500                 NaN  \n",
            "101501                 3.0  \n",
            "101502                 0.0  \n",
            "\n",
            "[101503 rows x 10 columns]\n"
          ]
        }
      ]
    },
    {
      "cell_type": "code",
      "source": [
        "sampleEntry = pd.read_csv('sampleEntry.csv')\n",
        "#xgb_cfl2.predict_proba(test))\n",
        "res = xgb_cfl2.predict_proba(test)[:,1]\n",
        "sampleEntry[\"Probability\"]=res\n",
        "sampleEntry.max()\n",
        "print(sampleEntry)"
      ],
      "metadata": {
        "id": "xaquDSyEBT0_",
        "colab": {
          "base_uri": "https://localhost:8080/"
        },
        "outputId": "3a41cf31-f634-4bfa-b4fa-a3aed8a726bb"
      },
      "execution_count": null,
      "outputs": [
        {
          "output_type": "stream",
          "name": "stdout",
          "text": [
            "            Id  Probability\n",
            "0            1     0.070422\n",
            "1            2     0.047023\n",
            "2            3     0.017491\n",
            "3            4     0.078876\n",
            "4            5     0.096590\n",
            "...        ...          ...\n",
            "101498  101499     0.031266\n",
            "101499  101500     0.339346\n",
            "101500  101501     0.007994\n",
            "101501  101502     0.054424\n",
            "101502  101503     0.045564\n",
            "\n",
            "[101503 rows x 2 columns]\n"
          ]
        }
      ]
    },
    {
      "cell_type": "code",
      "source": [
        "sampleEntry.to_csv(\"submission.csv\",index=False)"
      ],
      "metadata": {
        "id": "v7UWUpGUBT23"
      },
      "execution_count": null,
      "outputs": []
    },
    {
      "cell_type": "code",
      "source": [
        "from platform import python_version\n",
        "print(python_version())"
      ],
      "metadata": {
        "id": "RMnGaXSTBd88",
        "colab": {
          "base_uri": "https://localhost:8080/"
        },
        "outputId": "84a7f27e-2463-4ebd-b424-f442f213a4bc"
      },
      "execution_count": null,
      "outputs": [
        {
          "output_type": "stream",
          "name": "stdout",
          "text": [
            "3.7.13\n"
          ]
        }
      ]
    },
    {
      "cell_type": "code",
      "source": [
        "test.describe()"
      ],
      "metadata": {
        "id": "i69ILxyZBd-2",
        "colab": {
          "base_uri": "https://localhost:8080/",
          "height": 381
        },
        "outputId": "f7fd73de-4ec9-486e-d647-687ebdcccada"
      },
      "execution_count": null,
      "outputs": [
        {
          "output_type": "execute_result",
          "data": {
            "text/plain": [
              "       RevolvingUtilizationOfUnsecuredLines            age  \\\n",
              "count                         101503.000000  101503.000000   \n",
              "mean                               5.310000      52.405436   \n",
              "std                              196.156039      14.779756   \n",
              "min                                0.000000      21.000000   \n",
              "25%                                0.030131      41.000000   \n",
              "50%                                0.152586      52.000000   \n",
              "75%                                0.564225      63.000000   \n",
              "max                            21821.000000     104.000000   \n",
              "\n",
              "       NumberOfTime30-59DaysPastDueNotWorse      DebtRatio  MonthlyIncome  \\\n",
              "count                         101503.000000  101503.000000   8.140000e+04   \n",
              "mean                               0.453770     344.475020   6.855036e+03   \n",
              "std                                4.538487    1632.595231   3.650860e+04   \n",
              "min                                0.000000       0.000000   0.000000e+00   \n",
              "25%                                0.000000       0.173423   3.408000e+03   \n",
              "50%                                0.000000       0.364260   5.400000e+03   \n",
              "75%                                0.000000       0.851619   8.200000e+03   \n",
              "max                               98.000000  268326.000000   7.727000e+06   \n",
              "\n",
              "       NumberOfOpenCreditLinesAndLoans  NumberOfTimes90DaysLate  \\\n",
              "count                    101503.000000            101503.000000   \n",
              "mean                          8.453514                 0.296691   \n",
              "std                           5.144100                 4.515859   \n",
              "min                           0.000000                 0.000000   \n",
              "25%                           5.000000                 0.000000   \n",
              "50%                           8.000000                 0.000000   \n",
              "75%                          11.000000                 0.000000   \n",
              "max                          85.000000                98.000000   \n",
              "\n",
              "       NumberRealEstateLoansOrLines  NumberOfTime60-89DaysPastDueNotWorse  \\\n",
              "count                 101503.000000                         101503.000000   \n",
              "mean                       1.013074                              0.270317   \n",
              "std                        1.110253                              4.503578   \n",
              "min                        0.000000                              0.000000   \n",
              "25%                        0.000000                              0.000000   \n",
              "50%                        1.000000                              0.000000   \n",
              "75%                        2.000000                              0.000000   \n",
              "max                       37.000000                             98.000000   \n",
              "\n",
              "       NumberOfDependents  \n",
              "count        98877.000000  \n",
              "mean             0.769046  \n",
              "std              1.136778  \n",
              "min              0.000000  \n",
              "25%              0.000000  \n",
              "50%              0.000000  \n",
              "75%              1.000000  \n",
              "max             43.000000  "
            ],
            "text/html": [
              "\n",
              "  <div id=\"df-220a3935-91a2-45a1-a508-58a56f877f0b\">\n",
              "    <div class=\"colab-df-container\">\n",
              "      <div>\n",
              "<style scoped>\n",
              "    .dataframe tbody tr th:only-of-type {\n",
              "        vertical-align: middle;\n",
              "    }\n",
              "\n",
              "    .dataframe tbody tr th {\n",
              "        vertical-align: top;\n",
              "    }\n",
              "\n",
              "    .dataframe thead th {\n",
              "        text-align: right;\n",
              "    }\n",
              "</style>\n",
              "<table border=\"1\" class=\"dataframe\">\n",
              "  <thead>\n",
              "    <tr style=\"text-align: right;\">\n",
              "      <th></th>\n",
              "      <th>RevolvingUtilizationOfUnsecuredLines</th>\n",
              "      <th>age</th>\n",
              "      <th>NumberOfTime30-59DaysPastDueNotWorse</th>\n",
              "      <th>DebtRatio</th>\n",
              "      <th>MonthlyIncome</th>\n",
              "      <th>NumberOfOpenCreditLinesAndLoans</th>\n",
              "      <th>NumberOfTimes90DaysLate</th>\n",
              "      <th>NumberRealEstateLoansOrLines</th>\n",
              "      <th>NumberOfTime60-89DaysPastDueNotWorse</th>\n",
              "      <th>NumberOfDependents</th>\n",
              "    </tr>\n",
              "  </thead>\n",
              "  <tbody>\n",
              "    <tr>\n",
              "      <th>count</th>\n",
              "      <td>101503.000000</td>\n",
              "      <td>101503.000000</td>\n",
              "      <td>101503.000000</td>\n",
              "      <td>101503.000000</td>\n",
              "      <td>8.140000e+04</td>\n",
              "      <td>101503.000000</td>\n",
              "      <td>101503.000000</td>\n",
              "      <td>101503.000000</td>\n",
              "      <td>101503.000000</td>\n",
              "      <td>98877.000000</td>\n",
              "    </tr>\n",
              "    <tr>\n",
              "      <th>mean</th>\n",
              "      <td>5.310000</td>\n",
              "      <td>52.405436</td>\n",
              "      <td>0.453770</td>\n",
              "      <td>344.475020</td>\n",
              "      <td>6.855036e+03</td>\n",
              "      <td>8.453514</td>\n",
              "      <td>0.296691</td>\n",
              "      <td>1.013074</td>\n",
              "      <td>0.270317</td>\n",
              "      <td>0.769046</td>\n",
              "    </tr>\n",
              "    <tr>\n",
              "      <th>std</th>\n",
              "      <td>196.156039</td>\n",
              "      <td>14.779756</td>\n",
              "      <td>4.538487</td>\n",
              "      <td>1632.595231</td>\n",
              "      <td>3.650860e+04</td>\n",
              "      <td>5.144100</td>\n",
              "      <td>4.515859</td>\n",
              "      <td>1.110253</td>\n",
              "      <td>4.503578</td>\n",
              "      <td>1.136778</td>\n",
              "    </tr>\n",
              "    <tr>\n",
              "      <th>min</th>\n",
              "      <td>0.000000</td>\n",
              "      <td>21.000000</td>\n",
              "      <td>0.000000</td>\n",
              "      <td>0.000000</td>\n",
              "      <td>0.000000e+00</td>\n",
              "      <td>0.000000</td>\n",
              "      <td>0.000000</td>\n",
              "      <td>0.000000</td>\n",
              "      <td>0.000000</td>\n",
              "      <td>0.000000</td>\n",
              "    </tr>\n",
              "    <tr>\n",
              "      <th>25%</th>\n",
              "      <td>0.030131</td>\n",
              "      <td>41.000000</td>\n",
              "      <td>0.000000</td>\n",
              "      <td>0.173423</td>\n",
              "      <td>3.408000e+03</td>\n",
              "      <td>5.000000</td>\n",
              "      <td>0.000000</td>\n",
              "      <td>0.000000</td>\n",
              "      <td>0.000000</td>\n",
              "      <td>0.000000</td>\n",
              "    </tr>\n",
              "    <tr>\n",
              "      <th>50%</th>\n",
              "      <td>0.152586</td>\n",
              "      <td>52.000000</td>\n",
              "      <td>0.000000</td>\n",
              "      <td>0.364260</td>\n",
              "      <td>5.400000e+03</td>\n",
              "      <td>8.000000</td>\n",
              "      <td>0.000000</td>\n",
              "      <td>1.000000</td>\n",
              "      <td>0.000000</td>\n",
              "      <td>0.000000</td>\n",
              "    </tr>\n",
              "    <tr>\n",
              "      <th>75%</th>\n",
              "      <td>0.564225</td>\n",
              "      <td>63.000000</td>\n",
              "      <td>0.000000</td>\n",
              "      <td>0.851619</td>\n",
              "      <td>8.200000e+03</td>\n",
              "      <td>11.000000</td>\n",
              "      <td>0.000000</td>\n",
              "      <td>2.000000</td>\n",
              "      <td>0.000000</td>\n",
              "      <td>1.000000</td>\n",
              "    </tr>\n",
              "    <tr>\n",
              "      <th>max</th>\n",
              "      <td>21821.000000</td>\n",
              "      <td>104.000000</td>\n",
              "      <td>98.000000</td>\n",
              "      <td>268326.000000</td>\n",
              "      <td>7.727000e+06</td>\n",
              "      <td>85.000000</td>\n",
              "      <td>98.000000</td>\n",
              "      <td>37.000000</td>\n",
              "      <td>98.000000</td>\n",
              "      <td>43.000000</td>\n",
              "    </tr>\n",
              "  </tbody>\n",
              "</table>\n",
              "</div>\n",
              "      <button class=\"colab-df-convert\" onclick=\"convertToInteractive('df-220a3935-91a2-45a1-a508-58a56f877f0b')\"\n",
              "              title=\"Convert this dataframe to an interactive table.\"\n",
              "              style=\"display:none;\">\n",
              "        \n",
              "  <svg xmlns=\"http://www.w3.org/2000/svg\" height=\"24px\"viewBox=\"0 0 24 24\"\n",
              "       width=\"24px\">\n",
              "    <path d=\"M0 0h24v24H0V0z\" fill=\"none\"/>\n",
              "    <path d=\"M18.56 5.44l.94 2.06.94-2.06 2.06-.94-2.06-.94-.94-2.06-.94 2.06-2.06.94zm-11 1L8.5 8.5l.94-2.06 2.06-.94-2.06-.94L8.5 2.5l-.94 2.06-2.06.94zm10 10l.94 2.06.94-2.06 2.06-.94-2.06-.94-.94-2.06-.94 2.06-2.06.94z\"/><path d=\"M17.41 7.96l-1.37-1.37c-.4-.4-.92-.59-1.43-.59-.52 0-1.04.2-1.43.59L10.3 9.45l-7.72 7.72c-.78.78-.78 2.05 0 2.83L4 21.41c.39.39.9.59 1.41.59.51 0 1.02-.2 1.41-.59l7.78-7.78 2.81-2.81c.8-.78.8-2.07 0-2.86zM5.41 20L4 18.59l7.72-7.72 1.47 1.35L5.41 20z\"/>\n",
              "  </svg>\n",
              "      </button>\n",
              "      \n",
              "  <style>\n",
              "    .colab-df-container {\n",
              "      display:flex;\n",
              "      flex-wrap:wrap;\n",
              "      gap: 12px;\n",
              "    }\n",
              "\n",
              "    .colab-df-convert {\n",
              "      background-color: #E8F0FE;\n",
              "      border: none;\n",
              "      border-radius: 50%;\n",
              "      cursor: pointer;\n",
              "      display: none;\n",
              "      fill: #1967D2;\n",
              "      height: 32px;\n",
              "      padding: 0 0 0 0;\n",
              "      width: 32px;\n",
              "    }\n",
              "\n",
              "    .colab-df-convert:hover {\n",
              "      background-color: #E2EBFA;\n",
              "      box-shadow: 0px 1px 2px rgba(60, 64, 67, 0.3), 0px 1px 3px 1px rgba(60, 64, 67, 0.15);\n",
              "      fill: #174EA6;\n",
              "    }\n",
              "\n",
              "    [theme=dark] .colab-df-convert {\n",
              "      background-color: #3B4455;\n",
              "      fill: #D2E3FC;\n",
              "    }\n",
              "\n",
              "    [theme=dark] .colab-df-convert:hover {\n",
              "      background-color: #434B5C;\n",
              "      box-shadow: 0px 1px 3px 1px rgba(0, 0, 0, 0.15);\n",
              "      filter: drop-shadow(0px 1px 2px rgba(0, 0, 0, 0.3));\n",
              "      fill: #FFFFFF;\n",
              "    }\n",
              "  </style>\n",
              "\n",
              "      <script>\n",
              "        const buttonEl =\n",
              "          document.querySelector('#df-220a3935-91a2-45a1-a508-58a56f877f0b button.colab-df-convert');\n",
              "        buttonEl.style.display =\n",
              "          google.colab.kernel.accessAllowed ? 'block' : 'none';\n",
              "\n",
              "        async function convertToInteractive(key) {\n",
              "          const element = document.querySelector('#df-220a3935-91a2-45a1-a508-58a56f877f0b');\n",
              "          const dataTable =\n",
              "            await google.colab.kernel.invokeFunction('convertToInteractive',\n",
              "                                                     [key], {});\n",
              "          if (!dataTable) return;\n",
              "\n",
              "          const docLinkHtml = 'Like what you see? Visit the ' +\n",
              "            '<a target=\"_blank\" href=https://colab.research.google.com/notebooks/data_table.ipynb>data table notebook</a>'\n",
              "            + ' to learn more about interactive tables.';\n",
              "          element.innerHTML = '';\n",
              "          dataTable['output_type'] = 'display_data';\n",
              "          await google.colab.output.renderOutput(dataTable, element);\n",
              "          const docLink = document.createElement('div');\n",
              "          docLink.innerHTML = docLinkHtml;\n",
              "          element.appendChild(docLink);\n",
              "        }\n",
              "      </script>\n",
              "    </div>\n",
              "  </div>\n",
              "  "
            ]
          },
          "metadata": {},
          "execution_count": 147
        }
      ]
    },
    {
      "cell_type": "code",
      "source": [],
      "metadata": {
        "id": "urtZgfEuBeCo"
      },
      "execution_count": null,
      "outputs": []
    },
    {
      "cell_type": "code",
      "source": [],
      "metadata": {
        "id": "a_ESkvb6BeEh"
      },
      "execution_count": null,
      "outputs": []
    }
  ]
}
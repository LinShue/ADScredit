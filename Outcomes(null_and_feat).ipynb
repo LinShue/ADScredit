{
  "nbformat": 4,
  "nbformat_minor": 0,
  "metadata": {
    "colab": {
      "provenance": []
    },
    "kernelspec": {
      "name": "python3",
      "display_name": "Python 3"
    },
    "language_info": {
      "name": "python"
    }
  },
  "cells": [
    {
      "cell_type": "code",
      "execution_count": null,
      "metadata": {
        "id": "g6INxKo8-a-s"
      },
      "outputs": [],
      "source": [
        "import seaborn as sns\n",
        "import matplotlib.pyplot as plt\n",
        "%matplotlib inline"
      ]
    },
    {
      "cell_type": "code",
      "source": [
        "from sklearn.metrics import roc_auc_score,precision_recall_curve,roc_curve\n",
        "from sklearn.metrics import classification_report, accuracy_score\n",
        "from sklearn.model_selection import train_test_split\n",
        "from sklearn.metrics import roc_auc_score, confusion_matrix, auc\n",
        "from sklearn import model_selection"
      ],
      "metadata": {
        "id": "fVXp0HaA-lbP"
      },
      "execution_count": null,
      "outputs": []
    },
    {
      "cell_type": "code",
      "source": [
        "from sklearn.model_selection import GridSearchCV, StratifiedKFold, KFold\n",
        "from sklearn.ensemble import RandomForestClassifier, VotingClassifier\n",
        "from sklearn.linear_model import LogisticRegression\n",
        "import xgboost as xgb\n",
        "import lightgbm as lgb"
      ],
      "metadata": {
        "id": "IFqbkZUD-ldZ"
      },
      "execution_count": null,
      "outputs": []
    },
    {
      "cell_type": "code",
      "source": [
        "def evalBinaryClassifier(model, x, y, labels=['Positives','Negatives']):\n",
        "    '''\n",
        "    source: https://towardsdatascience.com/how-to-interpret-a-binary-logistic-regressor-with-scikit-learn-6d56c5783b49\n",
        "    Visualize the performance of  a Logistic Regression Binary Classifier.\n",
        "\n",
        "    Displays a labelled Confusion Matrix, distributions of the predicted\n",
        "    probabilities for both classes, the ROC curve, and F1 score of a fitted\n",
        "    Binary Logistic Classifier. Author: gregcondit.com/articles/logr-charts\n",
        "    Parameters\n",
        "    ----------\n",
        "    model : fitted scikit-learn model with predict_proba & predict methods\n",
        "        and classes_ attribute. Typically LogisticRegression or\n",
        "        LogisticRegressionCV\n",
        "\n",
        "    x : {array-like, sparse matrix}, shape (n_samples, n_features)\n",
        "        Training vector, where n_samples is the number of samples\n",
        "        in the data to be tested, and n_features is the number of features\n",
        "\n",
        "    y : array-like, shape (n_samples,)\n",
        "        Target vector relative to x.\n",
        "        labels: list, optional\n",
        "        list of text labels for the two classes, with the positive label first\n",
        "\n",
        "    Displays\n",
        "    ----------\n",
        "    3 Subplots\n",
        "\n",
        "    Returns\n",
        "    ----------\n",
        "    F1: float\n",
        "    '''\n",
        "    #model predicts probabilities of positive class\n",
        "    p = model.predict_proba(x)\n",
        "    if len(model.classes_)!=2:\n",
        "        raise ValueError('A binary class problem is required')\n",
        "    if model.classes_[1] == 1:\n",
        "        pos_p = p[:,1]\n",
        "    elif model.classes_[0] == 1:\n",
        "        pos_p = p[:,0]\n",
        "\n",
        "    #FIGURE\n",
        "    plt.figure(figsize=[15,4])\n",
        "\n",
        "    #1 -- Confusion matrix\n",
        "    cm = confusion_matrix(y,model.predict(x))\n",
        "    plt.subplot(131)\n",
        "    ax = sns.heatmap(cm, annot=True, cmap='Blues', cbar=False,\n",
        "                annot_kws={\"size\": 14}, fmt='g')\n",
        "    cmlabels = ['True Negatives', 'False Positives',\n",
        "              'False Negatives', 'True Positives']\n",
        "    for i,t in enumerate(ax.texts):\n",
        "      t.set_text(t.get_text() + \"\\n\" + cmlabels[i])\n",
        "    plt.title('Confusion Matrix', size=15)\n",
        "    plt.xlabel('Predicted Values', size=13)\n",
        "    plt.ylabel('True Values', size=13)\n",
        "\n",
        "    #2 -- Distributions of Predicted Probabilities of both classes\n",
        "    df = pd.DataFrame({'probPos':pos_p, 'target': y})\n",
        "    plt.subplot(132)\n",
        "    plt.hist(df[df.target==1].probPos, density=True, bins=25,\n",
        "             alpha=.5, color='green',  label=labels[0])\n",
        "    plt.hist(df[df.target==0].probPos, density=True, bins=25,\n",
        "             alpha=.5, color='red', label=labels[1])\n",
        "    plt.axvline(.5, color='blue', linestyle='--', label='Boundary')\n",
        "    plt.xlim([0,1])\n",
        "    plt.title('Distributions of Predictions', size=15)\n",
        "    plt.xlabel('Positive Probability (predicted)', size=13)\n",
        "    plt.ylabel('Samples (normalized scale)', size=13)\n",
        "    plt.legend(loc=\"upper right\")\n",
        "\n",
        "    #3 -- ROC curve with annotated decision point\n",
        "    fp_rates, tp_rates, _ = roc_curve(y,p[:,1])\n",
        "    roc_auc = auc(fp_rates, tp_rates)\n",
        "    plt.subplot(133)\n",
        "    plt.plot(fp_rates, tp_rates, color='green',\n",
        "             lw=1, label='ROC curve (area = %0.2f)' % roc_auc)\n",
        "    plt.plot([0, 1], [0, 1], lw=1, linestyle='--', color='grey')\n",
        "    #plot current decision point:\n",
        "    tn, fp, fn, tp = [i for i in cm.ravel()]\n",
        "    plt.plot(fp/(fp+tn), tp/(tp+fn), 'bo', markersize=8, label='Decision Point')\n",
        "    plt.xlim([0.0, 1.0])\n",
        "    plt.ylim([0.0, 1.05])\n",
        "    plt.xlabel('False Positive Rate', size=13)\n",
        "    plt.ylabel('True Positive Rate', size=13)\n",
        "    plt.title('ROC Curve', size=15)\n",
        "    plt.legend(loc=\"lower right\")\n",
        "    plt.subplots_adjust(wspace=.3)\n",
        "    plt.show()\n",
        "    #Print and Return the F1 score\n",
        "    tn, fp, fn, tp = [i for i in cm.ravel()]\n",
        "    precision = tp / (tp + fp)\n",
        "    recall = tp / (tp + fn)\n",
        "    F1 = 2*(precision * recall) / (precision + recall)\n",
        "    printout = (\n",
        "        f'Precision: {round(precision,2)} | '\n",
        "        f'Recall: {round(recall,2)} | '\n",
        "        f'F1 Score: {round(F1,2)} | '\n",
        "    )\n",
        "    print(printout)\n",
        "    return F1"
      ],
      "metadata": {
        "id": "EK7FpTmi-lg0"
      },
      "execution_count": null,
      "outputs": []
    },
    {
      "cell_type": "code",
      "source": [
        "import pandas as pd\n",
        "train = pd.read_csv('cs-training.csv')\n",
        "test = pd.read_csv('cs-test.csv')"
      ],
      "metadata": {
        "id": "cCEG_vT_-liu"
      },
      "execution_count": null,
      "outputs": []
    },
    {
      "cell_type": "code",
      "source": [
        "print('train shape  ',train.shape)"
      ],
      "metadata": {
        "colab": {
          "base_uri": "https://localhost:8080/"
        },
        "id": "LX9oWOUU-lmR",
        "outputId": "ccbdc08b-79dc-4337-d17e-bc36d7d5cd1d"
      },
      "execution_count": null,
      "outputs": [
        {
          "output_type": "stream",
          "name": "stdout",
          "text": [
            "train shape   (150000, 12)\n"
          ]
        }
      ]
    },
    {
      "cell_type": "code",
      "source": [
        "train.dtypes.value_counts()"
      ],
      "metadata": {
        "colab": {
          "base_uri": "https://localhost:8080/"
        },
        "id": "EC7ggnk_-loU",
        "outputId": "40cfc674-855a-4cf8-9dc8-ae4877a89613"
      },
      "execution_count": null,
      "outputs": [
        {
          "output_type": "execute_result",
          "data": {
            "text/plain": [
              "int64      8\n",
              "float64    4\n",
              "dtype: int64"
            ]
          },
          "metadata": {},
          "execution_count": 58
        }
      ]
    },
    {
      "cell_type": "code",
      "source": [
        "train.info()\n",
        "#print(train)"
      ],
      "metadata": {
        "colab": {
          "base_uri": "https://localhost:8080/"
        },
        "id": "YAppuYoj-lre",
        "outputId": "34c9579f-8c8a-48ea-fec2-fd375acb8fcc"
      },
      "execution_count": null,
      "outputs": [
        {
          "output_type": "stream",
          "name": "stdout",
          "text": [
            "<class 'pandas.core.frame.DataFrame'>\n",
            "RangeIndex: 150000 entries, 0 to 149999\n",
            "Data columns (total 12 columns):\n",
            " #   Column                                Non-Null Count   Dtype  \n",
            "---  ------                                --------------   -----  \n",
            " 0   Unnamed: 0                            150000 non-null  int64  \n",
            " 1   SeriousDlqin2yrs                      150000 non-null  int64  \n",
            " 2   RevolvingUtilizationOfUnsecuredLines  150000 non-null  float64\n",
            " 3   age                                   150000 non-null  int64  \n",
            " 4   NumberOfTime30-59DaysPastDueNotWorse  150000 non-null  int64  \n",
            " 5   DebtRatio                             150000 non-null  float64\n",
            " 6   MonthlyIncome                         120269 non-null  float64\n",
            " 7   NumberOfOpenCreditLinesAndLoans       150000 non-null  int64  \n",
            " 8   NumberOfTimes90DaysLate               150000 non-null  int64  \n",
            " 9   NumberRealEstateLoansOrLines          150000 non-null  int64  \n",
            " 10  NumberOfTime60-89DaysPastDueNotWorse  150000 non-null  int64  \n",
            " 11  NumberOfDependents                    146076 non-null  float64\n",
            "dtypes: float64(4), int64(8)\n",
            "memory usage: 13.7 MB\n"
          ]
        }
      ]
    },
    {
      "cell_type": "code",
      "source": [
        "train1 = train.drop(columns = ['Unnamed: 0'])\n",
        "train1['SeriousDlqin2yrs'].fillna(train1['SeriousDlqin2yrs'].median(), inplace=True)\n",
        "train1['RevolvingUtilizationOfUnsecuredLines'].fillna(train1['RevolvingUtilizationOfUnsecuredLines'].median(), inplace=True)\n",
        "train1['age'].fillna(train1['age'].median(), inplace=True)\n",
        "train1['NumberOfTime30-59DaysPastDueNotWorse'].fillna(train1['NumberOfTime30-59DaysPastDueNotWorse'].median(), inplace=True)\n",
        "train1['DebtRatio'].fillna(train1['DebtRatio'].median(), inplace=True)\n",
        "train1['MonthlyIncome'].fillna(train1['MonthlyIncome'].median(), inplace=True)\n",
        "train1['NumberOfOpenCreditLinesAndLoans'].fillna(train1['NumberOfOpenCreditLinesAndLoans'].median(), inplace=True)\n",
        "train1['NumberOfTimes90DaysLate'].fillna(train1['NumberOfTimes90DaysLate'].median(), inplace=True)\n",
        "train1['NumberRealEstateLoansOrLines'].fillna(train1['NumberRealEstateLoansOrLines'].median(), inplace=True)\n",
        "train1['NumberOfTime60-89DaysPastDueNotWorse'].fillna(train1['NumberOfTime60-89DaysPastDueNotWorse'].median(), inplace=True)\n",
        "train1['NumberOfDependents'].fillna(train1['NumberOfDependents'].median(), inplace=True)\n",
        "\n",
        "\"\"\"train = train.dropna()\n",
        "\n",
        "train = train.drop(columns = ['Unnamed: 0'])\"\"\"\n",
        "train1.head()\n",
        "print(train1.info())"
      ],
      "metadata": {
        "colab": {
          "base_uri": "https://localhost:8080/"
        },
        "id": "e_c8YkXm-ltR",
        "outputId": "c5461540-ff88-4f65-a02c-09c989aab223"
      },
      "execution_count": null,
      "outputs": [
        {
          "output_type": "stream",
          "name": "stdout",
          "text": [
            "<class 'pandas.core.frame.DataFrame'>\n",
            "RangeIndex: 150000 entries, 0 to 149999\n",
            "Data columns (total 11 columns):\n",
            " #   Column                                Non-Null Count   Dtype  \n",
            "---  ------                                --------------   -----  \n",
            " 0   SeriousDlqin2yrs                      150000 non-null  int64  \n",
            " 1   RevolvingUtilizationOfUnsecuredLines  150000 non-null  float64\n",
            " 2   age                                   150000 non-null  int64  \n",
            " 3   NumberOfTime30-59DaysPastDueNotWorse  150000 non-null  int64  \n",
            " 4   DebtRatio                             150000 non-null  float64\n",
            " 5   MonthlyIncome                         150000 non-null  float64\n",
            " 6   NumberOfOpenCreditLinesAndLoans       150000 non-null  int64  \n",
            " 7   NumberOfTimes90DaysLate               150000 non-null  int64  \n",
            " 8   NumberRealEstateLoansOrLines          150000 non-null  int64  \n",
            " 9   NumberOfTime60-89DaysPastDueNotWorse  150000 non-null  int64  \n",
            " 10  NumberOfDependents                    150000 non-null  float64\n",
            "dtypes: float64(4), int64(7)\n",
            "memory usage: 12.6 MB\n",
            "None\n"
          ]
        }
      ]
    },
    {
      "cell_type": "code",
      "source": [
        "import numpy as np\n",
        "features = train1.columns.values[0:30]\n",
        "#print(features)\n",
        "unique_max_train = []\n",
        "unique_max_test = []\n",
        "for feature in features:\n",
        "    values = train1[feature].value_counts()\n",
        "    unique_max_train.append([feature, values.max(), values.idxmax()])\n",
        "\n",
        "np.transpose((pd.DataFrame(unique_max_train, columns=['Feature', 'Max duplicates', 'Value'])).\\\n",
        "            sort_values(by = 'Max duplicates', ascending=False).head(15))\n",
        "#print(train[train['NumberOfDependents']== 20.0])\n",
        "#print(values)\"\"\""
      ],
      "metadata": {
        "colab": {
          "base_uri": "https://localhost:8080/",
          "height": 242
        },
        "id": "c_ZC66rO_550",
        "outputId": "0a97aac5-1ca8-4a84-ef1b-a5dd14b22708"
      },
      "execution_count": null,
      "outputs": [
        {
          "output_type": "execute_result",
          "data": {
            "text/plain": [
              "                                                  9                        7   \\\n",
              "Feature         NumberOfTime60-89DaysPastDueNotWorse  NumberOfTimes90DaysLate   \n",
              "Max duplicates                                142396                   141662   \n",
              "Value                                            0.0                      0.0   \n",
              "\n",
              "                              0                                     3   \\\n",
              "Feature         SeriousDlqin2yrs  NumberOfTime30-59DaysPastDueNotWorse   \n",
              "Max duplicates            139974                                126018   \n",
              "Value                        0.0                                   0.0   \n",
              "\n",
              "                                10                            8   \\\n",
              "Feature         NumberOfDependents  NumberRealEstateLoansOrLines   \n",
              "Max duplicates               90826                         56188   \n",
              "Value                          0.0                           0.0   \n",
              "\n",
              "                           5                                6   \\\n",
              "Feature         MonthlyIncome  NumberOfOpenCreditLinesAndLoans   \n",
              "Max duplicates          30062                            13614   \n",
              "Value                  5400.0                              6.0   \n",
              "\n",
              "                                                  1          4     2   \n",
              "Feature         RevolvingUtilizationOfUnsecuredLines  DebtRatio   age  \n",
              "Max duplicates                                 10878       4113  3837  \n",
              "Value                                            0.0        0.0  49.0  "
            ],
            "text/html": [
              "\n",
              "  <div id=\"df-fa3edfbf-638e-4ce5-b23b-5fec39ae4143\">\n",
              "    <div class=\"colab-df-container\">\n",
              "      <div>\n",
              "<style scoped>\n",
              "    .dataframe tbody tr th:only-of-type {\n",
              "        vertical-align: middle;\n",
              "    }\n",
              "\n",
              "    .dataframe tbody tr th {\n",
              "        vertical-align: top;\n",
              "    }\n",
              "\n",
              "    .dataframe thead th {\n",
              "        text-align: right;\n",
              "    }\n",
              "</style>\n",
              "<table border=\"1\" class=\"dataframe\">\n",
              "  <thead>\n",
              "    <tr style=\"text-align: right;\">\n",
              "      <th></th>\n",
              "      <th>9</th>\n",
              "      <th>7</th>\n",
              "      <th>0</th>\n",
              "      <th>3</th>\n",
              "      <th>10</th>\n",
              "      <th>8</th>\n",
              "      <th>5</th>\n",
              "      <th>6</th>\n",
              "      <th>1</th>\n",
              "      <th>4</th>\n",
              "      <th>2</th>\n",
              "    </tr>\n",
              "  </thead>\n",
              "  <tbody>\n",
              "    <tr>\n",
              "      <th>Feature</th>\n",
              "      <td>NumberOfTime60-89DaysPastDueNotWorse</td>\n",
              "      <td>NumberOfTimes90DaysLate</td>\n",
              "      <td>SeriousDlqin2yrs</td>\n",
              "      <td>NumberOfTime30-59DaysPastDueNotWorse</td>\n",
              "      <td>NumberOfDependents</td>\n",
              "      <td>NumberRealEstateLoansOrLines</td>\n",
              "      <td>MonthlyIncome</td>\n",
              "      <td>NumberOfOpenCreditLinesAndLoans</td>\n",
              "      <td>RevolvingUtilizationOfUnsecuredLines</td>\n",
              "      <td>DebtRatio</td>\n",
              "      <td>age</td>\n",
              "    </tr>\n",
              "    <tr>\n",
              "      <th>Max duplicates</th>\n",
              "      <td>142396</td>\n",
              "      <td>141662</td>\n",
              "      <td>139974</td>\n",
              "      <td>126018</td>\n",
              "      <td>90826</td>\n",
              "      <td>56188</td>\n",
              "      <td>30062</td>\n",
              "      <td>13614</td>\n",
              "      <td>10878</td>\n",
              "      <td>4113</td>\n",
              "      <td>3837</td>\n",
              "    </tr>\n",
              "    <tr>\n",
              "      <th>Value</th>\n",
              "      <td>0.0</td>\n",
              "      <td>0.0</td>\n",
              "      <td>0.0</td>\n",
              "      <td>0.0</td>\n",
              "      <td>0.0</td>\n",
              "      <td>0.0</td>\n",
              "      <td>5400.0</td>\n",
              "      <td>6.0</td>\n",
              "      <td>0.0</td>\n",
              "      <td>0.0</td>\n",
              "      <td>49.0</td>\n",
              "    </tr>\n",
              "  </tbody>\n",
              "</table>\n",
              "</div>\n",
              "      <button class=\"colab-df-convert\" onclick=\"convertToInteractive('df-fa3edfbf-638e-4ce5-b23b-5fec39ae4143')\"\n",
              "              title=\"Convert this dataframe to an interactive table.\"\n",
              "              style=\"display:none;\">\n",
              "        \n",
              "  <svg xmlns=\"http://www.w3.org/2000/svg\" height=\"24px\"viewBox=\"0 0 24 24\"\n",
              "       width=\"24px\">\n",
              "    <path d=\"M0 0h24v24H0V0z\" fill=\"none\"/>\n",
              "    <path d=\"M18.56 5.44l.94 2.06.94-2.06 2.06-.94-2.06-.94-.94-2.06-.94 2.06-2.06.94zm-11 1L8.5 8.5l.94-2.06 2.06-.94-2.06-.94L8.5 2.5l-.94 2.06-2.06.94zm10 10l.94 2.06.94-2.06 2.06-.94-2.06-.94-.94-2.06-.94 2.06-2.06.94z\"/><path d=\"M17.41 7.96l-1.37-1.37c-.4-.4-.92-.59-1.43-.59-.52 0-1.04.2-1.43.59L10.3 9.45l-7.72 7.72c-.78.78-.78 2.05 0 2.83L4 21.41c.39.39.9.59 1.41.59.51 0 1.02-.2 1.41-.59l7.78-7.78 2.81-2.81c.8-.78.8-2.07 0-2.86zM5.41 20L4 18.59l7.72-7.72 1.47 1.35L5.41 20z\"/>\n",
              "  </svg>\n",
              "      </button>\n",
              "      \n",
              "  <style>\n",
              "    .colab-df-container {\n",
              "      display:flex;\n",
              "      flex-wrap:wrap;\n",
              "      gap: 12px;\n",
              "    }\n",
              "\n",
              "    .colab-df-convert {\n",
              "      background-color: #E8F0FE;\n",
              "      border: none;\n",
              "      border-radius: 50%;\n",
              "      cursor: pointer;\n",
              "      display: none;\n",
              "      fill: #1967D2;\n",
              "      height: 32px;\n",
              "      padding: 0 0 0 0;\n",
              "      width: 32px;\n",
              "    }\n",
              "\n",
              "    .colab-df-convert:hover {\n",
              "      background-color: #E2EBFA;\n",
              "      box-shadow: 0px 1px 2px rgba(60, 64, 67, 0.3), 0px 1px 3px 1px rgba(60, 64, 67, 0.15);\n",
              "      fill: #174EA6;\n",
              "    }\n",
              "\n",
              "    [theme=dark] .colab-df-convert {\n",
              "      background-color: #3B4455;\n",
              "      fill: #D2E3FC;\n",
              "    }\n",
              "\n",
              "    [theme=dark] .colab-df-convert:hover {\n",
              "      background-color: #434B5C;\n",
              "      box-shadow: 0px 1px 3px 1px rgba(0, 0, 0, 0.15);\n",
              "      filter: drop-shadow(0px 1px 2px rgba(0, 0, 0, 0.3));\n",
              "      fill: #FFFFFF;\n",
              "    }\n",
              "  </style>\n",
              "\n",
              "      <script>\n",
              "        const buttonEl =\n",
              "          document.querySelector('#df-fa3edfbf-638e-4ce5-b23b-5fec39ae4143 button.colab-df-convert');\n",
              "        buttonEl.style.display =\n",
              "          google.colab.kernel.accessAllowed ? 'block' : 'none';\n",
              "\n",
              "        async function convertToInteractive(key) {\n",
              "          const element = document.querySelector('#df-fa3edfbf-638e-4ce5-b23b-5fec39ae4143');\n",
              "          const dataTable =\n",
              "            await google.colab.kernel.invokeFunction('convertToInteractive',\n",
              "                                                     [key], {});\n",
              "          if (!dataTable) return;\n",
              "\n",
              "          const docLinkHtml = 'Like what you see? Visit the ' +\n",
              "            '<a target=\"_blank\" href=https://colab.research.google.com/notebooks/data_table.ipynb>data table notebook</a>'\n",
              "            + ' to learn more about interactive tables.';\n",
              "          element.innerHTML = '';\n",
              "          dataTable['output_type'] = 'display_data';\n",
              "          await google.colab.output.renderOutput(dataTable, element);\n",
              "          const docLink = document.createElement('div');\n",
              "          docLink.innerHTML = docLinkHtml;\n",
              "          element.appendChild(docLink);\n",
              "        }\n",
              "      </script>\n",
              "    </div>\n",
              "  </div>\n",
              "  "
            ]
          },
          "metadata": {},
          "execution_count": 61
        }
      ]
    },
    {
      "cell_type": "code",
      "source": [
        "train1.SeriousDlqin2yrs.value_counts()"
      ],
      "metadata": {
        "colab": {
          "base_uri": "https://localhost:8080/"
        },
        "id": "5ZL2ccIc_6C0",
        "outputId": "583f6a10-97a1-4152-c3cb-ee7184d5184a"
      },
      "execution_count": null,
      "outputs": [
        {
          "output_type": "execute_result",
          "data": {
            "text/plain": [
              "0    139974\n",
              "1     10026\n",
              "Name: SeriousDlqin2yrs, dtype: int64"
            ]
          },
          "metadata": {},
          "execution_count": 62
        }
      ]
    },
    {
      "cell_type": "code",
      "source": [
        "train_X = train1.drop([\"SeriousDlqin2yrs\"], axis=1)\n",
        "train_y = np.log1p(train1[\"SeriousDlqin2yrs\"].values)\n",
        "print(train_y)"
      ],
      "metadata": {
        "colab": {
          "base_uri": "https://localhost:8080/"
        },
        "id": "W6LjUTIwAD9N",
        "outputId": "309270c1-ede8-45d5-e2e2-d664bc6610be"
      },
      "execution_count": null,
      "outputs": [
        {
          "output_type": "stream",
          "name": "stdout",
          "text": [
            "[0.69314718 0.         0.         ... 0.         0.         0.        ]\n"
          ]
        }
      ]
    },
    {
      "cell_type": "code",
      "source": [
        "from sklearn import ensemble\n",
        "model = ensemble.ExtraTreesRegressor(n_estimators=200, max_depth=20, max_features=0.5, n_jobs=-1, random_state=0)\n",
        "model.fit(train_X, train_y)\n",
        "\n",
        "## plotando as importâncias ##\n",
        "feat_names = train_X.columns.values\n",
        "importances = model.feature_importances_\n",
        "std = np.std([tree.feature_importances_ for tree in model.estimators_], axis=0)\n",
        "indices = np.argsort(importances)[::-1][:20]\n",
        "\n",
        "plt.figure(figsize=(12,12))\n",
        "plt.title(\"Feature importances\")\n",
        "plt.bar(range(len(indices)), importances[indices], color=\"r\", yerr=std[indices], align=\"center\")\n",
        "plt.xticks(range(len(indices)), feat_names[indices], rotation='vertical')\n",
        "plt.xlim([-1, len(indices)])\n",
        "plt.show()"
      ],
      "metadata": {
        "colab": {
          "base_uri": "https://localhost:8080/",
          "height": 925
        },
        "id": "m_CLjR5YAEDb",
        "outputId": "193c3204-6df8-43d3-aff5-98468cd120e6"
      },
      "execution_count": null,
      "outputs": [
        {
          "output_type": "display_data",
          "data": {
            "text/plain": [
              "<Figure size 864x864 with 1 Axes>"
            ],
            "image/png": "[encoded data removed]"
          },
          "metadata": {
            "needs_background": "light"
          }
        }
      ]
    },
    {
      "cell_type": "code",
      "source": [
        "train2 = train1.drop([\"age\"], axis=1)\n",
        "train2 = train2.drop([\"RevolvingUtilizationOfUnsecuredLines\"], axis=1)\n",
        "train2 = train2.drop([\"NumberOfOpenCreditLinesAndLoans\"], axis=1)\n",
        "train2 = train2.drop([\"DebtRatio\"], axis=1)\n",
        "train2 = train2.drop([\"MonthlyIncome\"], axis=1)\n",
        "train2 = train2.drop([\"NumberRealEstateLoansOrLines\"], axis=1)\n",
        "train2 = train2.drop([\"NumberOfDependents\"], axis=1)\n",
        "print(train2.shape)\n",
        "print(train2.info())"
      ],
      "metadata": {
        "colab": {
          "base_uri": "https://localhost:8080/"
        },
        "id": "pPg6uoga4D-b",
        "outputId": "e1cf9058-9c1d-4ba0-82fc-3298fa3354f5"
      },
      "execution_count": null,
      "outputs": [
        {
          "output_type": "stream",
          "name": "stdout",
          "text": [
            "(150000, 4)\n",
            "<class 'pandas.core.frame.DataFrame'>\n",
            "RangeIndex: 150000 entries, 0 to 149999\n",
            "Data columns (total 4 columns):\n",
            " #   Column                                Non-Null Count   Dtype\n",
            "---  ------                                --------------   -----\n",
            " 0   SeriousDlqin2yrs                      150000 non-null  int64\n",
            " 1   NumberOfTime30-59DaysPastDueNotWorse  150000 non-null  int64\n",
            " 2   NumberOfTimes90DaysLate               150000 non-null  int64\n",
            " 3   NumberOfTime60-89DaysPastDueNotWorse  150000 non-null  int64\n",
            "dtypes: int64(4)\n",
            "memory usage: 4.6 MB\n",
            "None\n"
          ]
        }
      ]
    },
    {
      "cell_type": "code",
      "source": [
        "def plot_roc(y_test,prob):\n",
        "    fpr, tpr, thresholds = roc_curve(y_test, probs)\n",
        "    # plot no skill\n",
        "    plt.plot([0, 1], [0, 1], linestyle='--')\n",
        "    # plot the roc curve for the model\n",
        "    plt.plot(fpr, tpr, marker='.')\n",
        "    plt.title(\"ROC curve\")\n",
        "    plt.xlabel('false positive rate')\n",
        "    plt.ylabel('true positive rate')\n",
        "    # show the plot\n",
        "    plt.show()"
      ],
      "metadata": {
        "id": "xCIUb6Y2AEEy"
      },
      "execution_count": null,
      "outputs": []
    },
    {
      "cell_type": "code",
      "source": [
        "def logistic(X,y):\n",
        "    y_train=train2['SeriousDlqin2yrs'].astype('uint8')\n",
        "    X_train,X_test,y_train,y_test=train_test_split(train1.drop('SeriousDlqin2yrs',axis=1),y_train,test_size=.2,random_state=2020)\n",
        "    lr=LogisticRegression()\n",
        "    lr.fit(X_train,y_train)\n",
        "    prob=lr.predict_proba(X_test)\n",
        "\n",
        "    roc=roc_auc_score(y_test, lr.predict_proba(X_test)[:,1])\n",
        "    print('roc ',roc)\n",
        "    print('lr', lr.fit(X_train,y_train))\n",
        "    #print('X_train', X_train)\n",
        "\n",
        "    print('X_Test', X_test)\n",
        "    print('prob', prob)\n",
        "    #print('prob', prob[:,1])\"\"\"\n",
        "    print('y_train', y_train)\n",
        "\n",
        "    return (prob[:,1],y_test)\n",
        "y_train=train2['SeriousDlqin2yrs'].astype('uint8')\n",
        "probs,y_test=logistic(train2.drop('SeriousDlqin2yrs',axis=1),y_train)\n",
        "print('test',y_test)"
      ],
      "metadata": {
        "colab": {
          "base_uri": "https://localhost:8080/"
        },
        "id": "Ju9MWZUxAEJb",
        "outputId": "468fb0bf-c982-46ce-cec0-1a83dee5c408"
      },
      "execution_count": null,
      "outputs": [
        {
          "output_type": "stream",
          "name": "stderr",
          "text": [
            "/usr/local/lib/python3.7/dist-packages/sklearn/linear_model/_logistic.py:818: ConvergenceWarning: lbfgs failed to converge (status=1):\n",
            "STOP: TOTAL NO. of ITERATIONS REACHED LIMIT.\n",
            "\n",
            "Increase the number of iterations (max_iter) or scale the data as shown in:\n",
            "    https://scikit-learn.org/stable/modules/preprocessing.html\n",
            "Please also refer to the documentation for alternative solver options:\n",
            "    https://scikit-learn.org/stable/modules/linear_model.html#logistic-regression\n",
            "  extra_warning_msg=_LOGISTIC_SOLVER_CONVERGENCE_MSG,\n"
          ]
        },
        {
          "output_type": "stream",
          "name": "stdout",
          "text": [
            "roc  0.6850576260270774\n",
            "lr LogisticRegression()\n",
            "X_Test         RevolvingUtilizationOfUnsecuredLines  age  \\\n",
            "143572                              0.612116   34   \n",
            "82758                               0.056930   30   \n",
            "3479                                0.151974   77   \n",
            "89329                               0.157219   59   \n",
            "90675                               0.394581   43   \n",
            "...                                      ...  ...   \n",
            "49142                               0.000000   78   \n",
            "15833                               0.000000   67   \n",
            "74592                               0.046128   62   \n",
            "50647                               0.338594   40   \n",
            "118863                              0.424422   56   \n",
            "\n",
            "        NumberOfTime30-59DaysPastDueNotWorse    DebtRatio  MonthlyIncome  \\\n",
            "143572                                     0  1331.000000         5400.0   \n",
            "82758                                      0     0.440842         6600.0   \n",
            "3479                                       0     0.190809         2001.0   \n",
            "89329                                      0    61.000000         5400.0   \n",
            "90675                                      0  1643.000000         5400.0   \n",
            "...                                      ...          ...            ...   \n",
            "49142                                      0  8151.000000            0.0   \n",
            "15833                                      0   497.000000         5400.0   \n",
            "74592                                      0    39.000000         5400.0   \n",
            "50647                                      0  2572.000000         5400.0   \n",
            "118863                                     0     0.419414         9250.0   \n",
            "\n",
            "        NumberOfOpenCreditLinesAndLoans  NumberOfTimes90DaysLate  \\\n",
            "143572                                4                        0   \n",
            "82758                                 8                        0   \n",
            "3479                                  3                        0   \n",
            "89329                                 2                        0   \n",
            "90675                                 9                        0   \n",
            "...                                 ...                      ...   \n",
            "49142                                11                        0   \n",
            "15833                                 7                        0   \n",
            "74592                                 2                        0   \n",
            "50647                                10                        0   \n",
            "118863                               16                        0   \n",
            "\n",
            "        NumberRealEstateLoansOrLines  NumberOfTime60-89DaysPastDueNotWorse  \\\n",
            "143572                             1                                     0   \n",
            "82758                              2                                     0   \n",
            "3479                               0                                     0   \n",
            "89329                              0                                     0   \n",
            "90675                              1                                     0   \n",
            "...                              ...                                   ...   \n",
            "49142                              1                                     0   \n",
            "15833                              0                                     0   \n",
            "74592                              0                                     0   \n",
            "50647                              4                                     0   \n",
            "118863                             2                                     0   \n",
            "\n",
            "        NumberOfDependents  \n",
            "143572                 0.0  \n",
            "82758                  0.0  \n",
            "3479                   0.0  \n",
            "89329                  0.0  \n",
            "90675                  0.0  \n",
            "...                    ...  \n",
            "49142                  0.0  \n",
            "15833                  0.0  \n",
            "74592                  0.0  \n",
            "50647                  0.0  \n",
            "118863                 0.0  \n",
            "\n",
            "[30000 rows x 10 columns]\n",
            "prob [[0.88857347 0.11142653]\n",
            " [0.87385247 0.12614753]\n",
            " [0.98261009 0.01738991]\n",
            " ...\n",
            " [0.97063954 0.02936046]\n",
            " [0.88599948 0.11400052]\n",
            " [0.97410445 0.02589555]]\n",
            "y_train 124037    0\n",
            "83978     0\n",
            "138133    0\n",
            "149432    0\n",
            "68207     0\n",
            "         ..\n",
            "96184     0\n",
            "20039     0\n",
            "18523     0\n",
            "113270    0\n",
            "41824     0\n",
            "Name: SeriousDlqin2yrs, Length: 120000, dtype: uint8\n",
            "test 143572    0\n",
            "82758     0\n",
            "3479      0\n",
            "89329     0\n",
            "90675     0\n",
            "         ..\n",
            "49142     0\n",
            "15833     0\n",
            "74592     0\n",
            "50647     0\n",
            "118863    0\n",
            "Name: SeriousDlqin2yrs, Length: 30000, dtype: uint8\n"
          ]
        },
        {
          "output_type": "stream",
          "name": "stderr",
          "text": [
            "/usr/local/lib/python3.7/dist-packages/sklearn/linear_model/_logistic.py:818: ConvergenceWarning: lbfgs failed to converge (status=1):\n",
            "STOP: TOTAL NO. of ITERATIONS REACHED LIMIT.\n",
            "\n",
            "Increase the number of iterations (max_iter) or scale the data as shown in:\n",
            "    https://scikit-learn.org/stable/modules/preprocessing.html\n",
            "Please also refer to the documentation for alternative solver options:\n",
            "    https://scikit-learn.org/stable/modules/linear_model.html#logistic-regression\n",
            "  extra_warning_msg=_LOGISTIC_SOLVER_CONVERGENCE_MSG,\n"
          ]
        }
      ]
    },
    {
      "cell_type": "code",
      "source": [
        "\"\"\"print(probs)\n",
        "print(y_train.head(15))\n",
        "print(train)\"\"\"\n",
        "#print(train.drop('SeriousDlqin2yrs',axis=1))\n",
        "#print(roc_curve(y_test,probs))\n",
        "\"\"\"fpr1, tpr1, thresholds1 = roc_curve(y_test,probs)\n",
        "print(fpr1)\n",
        "print(tpr1)\n",
        "plt.plot(fpr1)\n",
        "plt.plot(tpr1)\"\"\"\n",
        "#plt.plot(fpr1, tpr1)"
      ],
      "metadata": {
        "colab": {
          "base_uri": "https://localhost:8080/",
          "height": 53
        },
        "id": "Lu-Wtd5MOhGY",
        "outputId": "5a8024b1-1d7e-4e0f-a875-9863d4bb87c7"
      },
      "execution_count": null,
      "outputs": [
        {
          "output_type": "execute_result",
          "data": {
            "text/plain": [
              "'fpr1, tpr1, thresholds1 = roc_curve(y_test,probs)\\nprint(fpr1)\\nprint(tpr1)\\nplt.plot(fpr1)\\nplt.plot(tpr1)'"
            ],
            "application/vnd.google.colaboratory.intrinsic+json": {
              "type": "string"
            }
          },
          "metadata": {},
          "execution_count": 142
        }
      ]
    },
    {
      "cell_type": "code",
      "source": [
        "plot_roc(y_test,probs)"
      ],
      "metadata": {
        "colab": {
          "base_uri": "https://localhost:8080/",
          "height": 295
        },
        "id": "vaw3SLbQAX6r",
        "outputId": "a2035dd1-82d3-4fff-e3df-a90eb1453a81"
      },
      "execution_count": null,
      "outputs": [
        {
          "output_type": "display_data",
          "data": {
            "text/plain": [
              "<Figure size 432x288 with 1 Axes>"
            ],
            "image/png": "[encoded data removed]"
          },
          "metadata": {
            "needs_background": "light"
          }
        }
      ]
    },
    {
      "cell_type": "code",
      "source": [
        "train_x, val_x, train_y, val_y=train_test_split(train2.drop('SeriousDlqin2yrs',axis=1),y_train,test_size=.2,random_state=2020)\n",
        "print(y_train)\n",
        "clf = LogisticRegression(solver=\"lbfgs\").fit(train_x, train_y)\n",
        "pred_y = clf.predict(val_x)\n",
        "#print('x',train_x)\n",
        "#print('y',train_y)\n",
        "print('u', val_y)\n",
        "#print(clf)\n",
        "print('pred', pred_y)\n",
        "#print(val_x)\"\"\""
      ],
      "metadata": {
        "colab": {
          "base_uri": "https://localhost:8080/"
        },
        "id": "T0Goof3WAYD7",
        "outputId": "3d69221e-ee7d-4e29-d671-3dfa3fd204b9"
      },
      "execution_count": null,
      "outputs": [
        {
          "output_type": "stream",
          "name": "stdout",
          "text": [
            "0         1\n",
            "1         0\n",
            "2         0\n",
            "3         0\n",
            "4         0\n",
            "         ..\n",
            "149995    0\n",
            "149996    0\n",
            "149997    0\n",
            "149998    0\n",
            "149999    0\n",
            "Name: SeriousDlqin2yrs, Length: 150000, dtype: uint8\n",
            "u 143572    0\n",
            "82758     0\n",
            "3479      0\n",
            "89329     0\n",
            "90675     0\n",
            "         ..\n",
            "49142     0\n",
            "15833     0\n",
            "74592     0\n",
            "50647     0\n",
            "118863    0\n",
            "Name: SeriousDlqin2yrs, Length: 30000, dtype: uint8\n",
            "pred [0 0 0 ... 0 0 0]\n"
          ]
        }
      ]
    },
    {
      "cell_type": "code",
      "source": [
        "rocrl=roc_auc_score(val_y, pred_y)\n",
        "rocrl"
      ],
      "metadata": {
        "colab": {
          "base_uri": "https://localhost:8080/"
        },
        "id": "cfuUT8S_Acr8",
        "outputId": "228cce39-f3e9-4f72-ed52-7d8326b203bf"
      },
      "execution_count": null,
      "outputs": [
        {
          "output_type": "execute_result",
          "data": {
            "text/plain": [
              "0.5188727450300427"
            ]
          },
          "metadata": {},
          "execution_count": 74
        }
      ]
    },
    {
      "cell_type": "code",
      "source": [
        "plot_roc(val_y, pred_y)\n",
        "#print(val_y)\n",
        "print(pred_y)"
      ],
      "metadata": {
        "colab": {
          "base_uri": "https://localhost:8080/",
          "height": 313
        },
        "id": "CPO_d4DfAct1",
        "outputId": "88c60b66-dc03-4a7e-a2c0-94da71f493fb"
      },
      "execution_count": null,
      "outputs": [
        {
          "output_type": "display_data",
          "data": {
            "text/plain": [
              "<Figure size 432x288 with 1 Axes>"
            ],
            "image/png": "[encoded data removed]"
          },
          "metadata": {
            "needs_background": "light"
          }
        },
        {
          "output_type": "stream",
          "name": "stdout",
          "text": [
            "[0 0 0 ... 0 0 0]\n"
          ]
        }
      ]
    },
    {
      "cell_type": "code",
      "source": [
        "%%time\n",
        "model = RandomForestClassifier(n_estimators=220).fit(train_x,train_y)\n",
        "predictionforest = model.predict(val_x)"
      ],
      "metadata": {
        "colab": {
          "base_uri": "https://localhost:8080/"
        },
        "id": "VY69hk3pAcxT",
        "outputId": "4debfd4f-66ca-4d72-a4d8-8e91cf9de314"
      },
      "execution_count": null,
      "outputs": [
        {
          "output_type": "stream",
          "name": "stdout",
          "text": [
            "CPU times: user 5.11 s, sys: 75.9 ms, total: 5.18 s\n",
            "Wall time: 5.19 s\n"
          ]
        }
      ]
    },
    {
      "cell_type": "code",
      "source": [
        "%%time\n",
        "rocrf=roc_auc_score(val_y, predictionforest)\n",
        "print('roc ',rocrf)"
      ],
      "metadata": {
        "colab": {
          "base_uri": "https://localhost:8080/"
        },
        "id": "nm4fNA-EAczG",
        "outputId": "2932ca9b-5a5d-4268-c86e-830d3f910d61"
      },
      "execution_count": null,
      "outputs": [
        {
          "output_type": "stream",
          "name": "stdout",
          "text": [
            "roc  0.5655800819538708\n",
            "CPU times: user 11.6 ms, sys: 0 ns, total: 11.6 ms\n",
            "Wall time: 10.4 ms\n"
          ]
        }
      ]
    },
    {
      "cell_type": "code",
      "source": [
        "plot_roc(val_y, predictionforest)"
      ],
      "metadata": {
        "colab": {
          "base_uri": "https://localhost:8080/",
          "height": 295
        },
        "id": "FhFwZ72oAc2e",
        "outputId": "ca783da2-f07e-49b2-a408-8dc62328619f"
      },
      "execution_count": null,
      "outputs": [
        {
          "output_type": "display_data",
          "data": {
            "text/plain": [
              "<Figure size 432x288 with 1 Axes>"
            ],
            "image/png": "[encoded data removed]"
          },
          "metadata": {
            "needs_background": "light"
          }
        }
      ]
    },
    {
      "cell_type": "code",
      "source": [
        "xgb_cfl = xgb.XGBClassifier(n_jobs = -1,\n",
        "                            n_estimators = 220)\n",
        "\n",
        "xgb_cfl.fit(train_x, train_y)\n",
        "y_scorexgb = xgb_cfl.predict_proba(val_x)[:,1]"
      ],
      "metadata": {
        "id": "n8pXWbv5Ac5Y"
      },
      "execution_count": null,
      "outputs": []
    },
    {
      "cell_type": "code",
      "source": [
        "rocxgb=roc_auc_score(val_y, y_scorexgb)\n",
        "print('roc ',rocxgb)"
      ],
      "metadata": {
        "colab": {
          "base_uri": "https://localhost:8080/"
        },
        "id": "vMbfOxMwAc7m",
        "outputId": "1577f64f-47c7-4bf9-fdd1-56d61219ca99"
      },
      "execution_count": null,
      "outputs": [
        {
          "output_type": "stream",
          "name": "stdout",
          "text": [
            "roc  0.7833952646515544\n"
          ]
        }
      ]
    },
    {
      "cell_type": "code",
      "source": [
        "plot_roc(val_y, y_scorexgb)\n"
      ],
      "metadata": {
        "colab": {
          "base_uri": "https://localhost:8080/",
          "height": 295
        },
        "id": "8iYigM8iAzWF",
        "outputId": "8c617b00-844c-470e-ac72-f4a2e752ea36"
      },
      "execution_count": null,
      "outputs": [
        {
          "output_type": "display_data",
          "data": {
            "text/plain": [
              "<Figure size 432x288 with 1 Axes>"
            ],
            "image/png": "[encoded data removed]"
          },
          "metadata": {
            "needs_background": "light"
          }
        }
      ]
    },
    {
      "cell_type": "code",
      "source": [
        "xgb_cfl = xgb.XGBClassifier(n_jobs = -1)\n",
        "xgb_cfl.fit(train_x, train_y)\n",
        "y_pred = xgb_cfl.predict(val_x)\n",
        "y_score = xgb_cfl.predict_proba(val_x)[:,1]"
      ],
      "metadata": {
        "id": "l2iQ-cusAzaX"
      },
      "execution_count": null,
      "outputs": []
    },
    {
      "cell_type": "code",
      "source": [
        "%%time\n",
        "param_grid = {\n",
        "            'n_estimators': [50, 100, 200]\n",
        "              }\n",
        "\n",
        "CV_xgb_cfl = GridSearchCV(estimator = xgb_cfl, param_grid = param_grid, scoring ='roc_auc', verbose = 2)\n",
        "CV_xgb_cfl.fit(train_x, train_y)\n",
        "\n",
        "best_parameters = CV_xgb_cfl.best_params_\n",
        "print(\"The best parameters: \", best_parameters)"
      ],
      "metadata": {
        "colab": {
          "base_uri": "https://localhost:8080/"
        },
        "id": "1c6qDCxxAzcU",
        "outputId": "33731fa1-285f-47c1-ef80-f1ffaa840c3a"
      },
      "execution_count": null,
      "outputs": [
        {
          "output_type": "stream",
          "name": "stdout",
          "text": [
            "Fitting 5 folds for each of 3 candidates, totalling 15 fits\n",
            "[CV] END ....................................n_estimators=50; total time=   1.4s\n",
            "[CV] END ....................................n_estimators=50; total time=   1.4s\n",
            "[CV] END ....................................n_estimators=50; total time=   1.4s\n",
            "[CV] END ....................................n_estimators=50; total time=   1.4s\n",
            "[CV] END ....................................n_estimators=50; total time=   1.4s\n",
            "[CV] END ...................................n_estimators=100; total time=   2.7s\n",
            "[CV] END ...................................n_estimators=100; total time=   2.7s\n",
            "[CV] END ...................................n_estimators=100; total time=   2.7s\n",
            "[CV] END ...................................n_estimators=100; total time=   2.7s\n",
            "[CV] END ...................................n_estimators=100; total time=   4.6s\n",
            "[CV] END ...................................n_estimators=200; total time=   5.2s\n",
            "[CV] END ...................................n_estimators=200; total time=   5.2s\n",
            "[CV] END ...................................n_estimators=200; total time=   5.2s\n",
            "[CV] END ...................................n_estimators=200; total time=   5.2s\n",
            "[CV] END ...................................n_estimators=200; total time=   5.2s\n",
            "The best parameters:  {'n_estimators': 100}\n",
            "CPU times: user 1min 37s, sys: 267 ms, total: 1min 38s\n",
            "Wall time: 51.5 s\n"
          ]
        }
      ]
    },
    {
      "cell_type": "code",
      "source": [
        "xgb_cfl2 = xgb.XGBClassifier(n_jobs = -1,\n",
        "                            n_estimators = 120)\n",
        "\n",
        "xgb_cfl2.fit(train_x, train_y)\n",
        "y_score2 = xgb_cfl2.predict_proba(val_x)[:,1]"
      ],
      "metadata": {
        "id": "MyQbbL_AAzgp"
      },
      "execution_count": null,
      "outputs": []
    },
    {
      "cell_type": "code",
      "source": [
        "rocxgb=roc_auc_score(val_y, y_score2)\n",
        "print('roc ',rocxgb)"
      ],
      "metadata": {
        "colab": {
          "base_uri": "https://localhost:8080/"
        },
        "id": "vPGKXwh6Ac9b",
        "outputId": "fc5403b8-1d29-483e-808a-c5a4ba29aad7"
      },
      "execution_count": null,
      "outputs": [
        {
          "output_type": "stream",
          "name": "stdout",
          "text": [
            "roc  0.7834088793975895\n"
          ]
        }
      ]
    },
    {
      "cell_type": "code",
      "source": [
        "plot_roc(val_y, y_score2)"
      ],
      "metadata": {
        "colab": {
          "base_uri": "https://localhost:8080/",
          "height": 295
        },
        "id": "EQ8ntkvYAdBG",
        "outputId": "6f662599-0e15-4e3c-b6b2-ba90e34e950b"
      },
      "execution_count": null,
      "outputs": [
        {
          "output_type": "display_data",
          "data": {
            "text/plain": [
              "<Figure size 432x288 with 1 Axes>"
            ],
            "image/png": "[encoded data removed]"
          },
          "metadata": {
            "needs_background": "light"
          }
        }
      ]
    },
    {
      "cell_type": "code",
      "source": [
        "F1 = evalBinaryClassifier(xgb_cfl2, val_x, val_y)"
      ],
      "metadata": {
        "colab": {
          "base_uri": "https://localhost:8080/",
          "height": 270
        },
        "id": "zEvxuvcBBTet",
        "outputId": "423679b1-09f0-40f2-8658-2a205dca5123"
      },
      "execution_count": null,
      "outputs": [
        {
          "output_type": "display_data",
          "data": {
            "text/plain": [
              "<Figure size 1080x288 with 3 Axes>"
            ],
            "image/png": "[encoded data removed]"
          },
          "metadata": {
            "needs_background": "light"
          }
        },
        {
          "output_type": "stream",
          "name": "stdout",
          "text": [
            "Precision: 0.66 | Recall: 0.14 | F1 Score: 0.23 | \n"
          ]
        }
      ]
    },
    {
      "cell_type": "code",
      "source": [
        "## Target 1\n",
        "target1 = pd.DataFrame({\"Target\": val_y, 'Probability': y_score2 })\n",
        "print(target1.loc[target1.Target == 1, 'Probability'].describe())\n",
        "target1.loc[target1.Target == 1, 'Probability'].hist()"
      ],
      "metadata": {
        "id": "PmWZZoRABTvV",
        "colab": {
          "base_uri": "https://localhost:8080/",
          "height": 444
        },
        "outputId": "8d02323a-eba4-4c73-fd22-cc82eea905b4"
      },
      "execution_count": null,
      "outputs": [
        {
          "output_type": "stream",
          "name": "stdout",
          "text": [
            "count    2020.000000\n",
            "mean        0.236045\n",
            "std         0.213886\n",
            "min         0.027381\n",
            "25%         0.027381\n",
            "50%         0.170060\n",
            "75%         0.389885\n",
            "max         0.935657\n",
            "Name: Probability, dtype: float64\n"
          ]
        },
        {
          "output_type": "execute_result",
          "data": {
            "text/plain": [
              "<matplotlib.axes._subplots.AxesSubplot at 0x7f5a51053d90>"
            ]
          },
          "metadata": {},
          "execution_count": 88
        },
        {
          "output_type": "display_data",
          "data": {
            "text/plain": [
              "<Figure size 432x288 with 1 Axes>"
            ],
            "image/png": "[encoded data removed]"
          },
          "metadata": {
            "needs_background": "light"
          }
        }
      ]
    },
    {
      "cell_type": "code",
      "source": [
        "test1 =test.drop([\"SeriousDlqin2yrs\",\"Unnamed: 0\"],1)\n",
        "test1 =test1.drop([\"age\"], axis=1)\n",
        "test1 =test1.drop([\"RevolvingUtilizationOfUnsecuredLines\"], axis=1)\n",
        "test1 =test1.drop([\"NumberOfOpenCreditLinesAndLoans\"], axis=1)\n",
        "test1 =test1.drop([\"DebtRatio\"], axis=1)\n",
        "test1 =test1.drop([\"MonthlyIncome\"], axis=1)\n",
        "test1 =test1.drop([\"NumberRealEstateLoansOrLines\"], axis=1)\n",
        "test1 =test1.drop([\"NumberOfDependents\"], axis=1)\n",
        ""
      ],
      "metadata": {
        "id": "XXVXaDxXBTxE",
        "colab": {
          "base_uri": "https://localhost:8080/"
        },
        "outputId": "9f5d057c-2f72-4a53-c93c-314b164ada62"
      },
      "execution_count": null,
      "outputs": [
        {
          "output_type": "stream",
          "name": "stderr",
          "text": [
            "/usr/local/lib/python3.7/dist-packages/ipykernel_launcher.py:1: FutureWarning: In a future version of pandas all arguments of DataFrame.drop except for the argument 'labels' will be keyword-only\n",
            "  \"\"\"Entry point for launching an IPython kernel.\n"
          ]
        }
      ]
    },
    {
      "cell_type": "code",
      "source": [
        "sampleEntry = pd.read_csv('sampleEntry.csv')\n",
        "\n",
        "res = xgb_cfl2.predict_proba(test1)[:,1]\n",
        "sampleEntry[\"Probability\"]=res\n",
        "sampleEntry.head()"
      ],
      "metadata": {
        "id": "xaquDSyEBT0_",
        "colab": {
          "base_uri": "https://localhost:8080/",
          "height": 206
        },
        "outputId": "4d29113e-8934-4327-a384-0e438a1be07e"
      },
      "execution_count": null,
      "outputs": [
        {
          "output_type": "execute_result",
          "data": {
            "text/plain": [
              "   Id  Probability\n",
              "0   1     0.027381\n",
              "1   2     0.027381\n",
              "2   3     0.027381\n",
              "3   4     0.094340\n",
              "4   5     0.027381"
            ],
            "text/html": [
              "\n",
              "  <div id=\"df-50c8e5ca-e923-4303-852b-c55d5c3b1fad\">\n",
              "    <div class=\"colab-df-container\">\n",
              "      <div>\n",
              "<style scoped>\n",
              "    .dataframe tbody tr th:only-of-type {\n",
              "        vertical-align: middle;\n",
              "    }\n",
              "\n",
              "    .dataframe tbody tr th {\n",
              "        vertical-align: top;\n",
              "    }\n",
              "\n",
              "    .dataframe thead th {\n",
              "        text-align: right;\n",
              "    }\n",
              "</style>\n",
              "<table border=\"1\" class=\"dataframe\">\n",
              "  <thead>\n",
              "    <tr style=\"text-align: right;\">\n",
              "      <th></th>\n",
              "      <th>Id</th>\n",
              "      <th>Probability</th>\n",
              "    </tr>\n",
              "  </thead>\n",
              "  <tbody>\n",
              "    <tr>\n",
              "      <th>0</th>\n",
              "      <td>1</td>\n",
              "      <td>0.027381</td>\n",
              "    </tr>\n",
              "    <tr>\n",
              "      <th>1</th>\n",
              "      <td>2</td>\n",
              "      <td>0.027381</td>\n",
              "    </tr>\n",
              "    <tr>\n",
              "      <th>2</th>\n",
              "      <td>3</td>\n",
              "      <td>0.027381</td>\n",
              "    </tr>\n",
              "    <tr>\n",
              "      <th>3</th>\n",
              "      <td>4</td>\n",
              "      <td>0.094340</td>\n",
              "    </tr>\n",
              "    <tr>\n",
              "      <th>4</th>\n",
              "      <td>5</td>\n",
              "      <td>0.027381</td>\n",
              "    </tr>\n",
              "  </tbody>\n",
              "</table>\n",
              "</div>\n",
              "      <button class=\"colab-df-convert\" onclick=\"convertToInteractive('df-50c8e5ca-e923-4303-852b-c55d5c3b1fad')\"\n",
              "              title=\"Convert this dataframe to an interactive table.\"\n",
              "              style=\"display:none;\">\n",
              "        \n",
              "  <svg xmlns=\"http://www.w3.org/2000/svg\" height=\"24px\"viewBox=\"0 0 24 24\"\n",
              "       width=\"24px\">\n",
              "    <path d=\"M0 0h24v24H0V0z\" fill=\"none\"/>\n",
              "    <path d=\"M18.56 5.44l.94 2.06.94-2.06 2.06-.94-2.06-.94-.94-2.06-.94 2.06-2.06.94zm-11 1L8.5 8.5l.94-2.06 2.06-.94-2.06-.94L8.5 2.5l-.94 2.06-2.06.94zm10 10l.94 2.06.94-2.06 2.06-.94-2.06-.94-.94-2.06-.94 2.06-2.06.94z\"/><path d=\"M17.41 7.96l-1.37-1.37c-.4-.4-.92-.59-1.43-.59-.52 0-1.04.2-1.43.59L10.3 9.45l-7.72 7.72c-.78.78-.78 2.05 0 2.83L4 21.41c.39.39.9.59 1.41.59.51 0 1.02-.2 1.41-.59l7.78-7.78 2.81-2.81c.8-.78.8-2.07 0-2.86zM5.41 20L4 18.59l7.72-7.72 1.47 1.35L5.41 20z\"/>\n",
              "  </svg>\n",
              "      </button>\n",
              "      \n",
              "  <style>\n",
              "    .colab-df-container {\n",
              "      display:flex;\n",
              "      flex-wrap:wrap;\n",
              "      gap: 12px;\n",
              "    }\n",
              "\n",
              "    .colab-df-convert {\n",
              "      background-color: #E8F0FE;\n",
              "      border: none;\n",
              "      border-radius: 50%;\n",
              "      cursor: pointer;\n",
              "      display: none;\n",
              "      fill: #1967D2;\n",
              "      height: 32px;\n",
              "      padding: 0 0 0 0;\n",
              "      width: 32px;\n",
              "    }\n",
              "\n",
              "    .colab-df-convert:hover {\n",
              "      background-color: #E2EBFA;\n",
              "      box-shadow: 0px 1px 2px rgba(60, 64, 67, 0.3), 0px 1px 3px 1px rgba(60, 64, 67, 0.15);\n",
              "      fill: #174EA6;\n",
              "    }\n",
              "\n",
              "    [theme=dark] .colab-df-convert {\n",
              "      background-color: #3B4455;\n",
              "      fill: #D2E3FC;\n",
              "    }\n",
              "\n",
              "    [theme=dark] .colab-df-convert:hover {\n",
              "      background-color: #434B5C;\n",
              "      box-shadow: 0px 1px 3px 1px rgba(0, 0, 0, 0.15);\n",
              "      filter: drop-shadow(0px 1px 2px rgba(0, 0, 0, 0.3));\n",
              "      fill: #FFFFFF;\n",
              "    }\n",
              "  </style>\n",
              "\n",
              "      <script>\n",
              "        const buttonEl =\n",
              "          document.querySelector('#df-50c8e5ca-e923-4303-852b-c55d5c3b1fad button.colab-df-convert');\n",
              "        buttonEl.style.display =\n",
              "          google.colab.kernel.accessAllowed ? 'block' : 'none';\n",
              "\n",
              "        async function convertToInteractive(key) {\n",
              "          const element = document.querySelector('#df-50c8e5ca-e923-4303-852b-c55d5c3b1fad');\n",
              "          const dataTable =\n",
              "            await google.colab.kernel.invokeFunction('convertToInteractive',\n",
              "                                                     [key], {});\n",
              "          if (!dataTable) return;\n",
              "\n",
              "          const docLinkHtml = 'Like what you see? Visit the ' +\n",
              "            '<a target=\"_blank\" href=https://colab.research.google.com/notebooks/data_table.ipynb>data table notebook</a>'\n",
              "            + ' to learn more about interactive tables.';\n",
              "          element.innerHTML = '';\n",
              "          dataTable['output_type'] = 'display_data';\n",
              "          await google.colab.output.renderOutput(dataTable, element);\n",
              "          const docLink = document.createElement('div');\n",
              "          docLink.innerHTML = docLinkHtml;\n",
              "          element.appendChild(docLink);\n",
              "        }\n",
              "      </script>\n",
              "    </div>\n",
              "  </div>\n",
              "  "
            ]
          },
          "metadata": {},
          "execution_count": 90
        }
      ]
    },
    {
      "cell_type": "code",
      "source": [
        "sampleEntry.to_csv(\"submission.csv\",index=False)"
      ],
      "metadata": {
        "id": "v7UWUpGUBT23"
      },
      "execution_count": null,
      "outputs": []
    },
    {
      "cell_type": "code",
      "source": [
        "from platform import python_version\n",
        "print(python_version())"
      ],
      "metadata": {
        "id": "RMnGaXSTBd88",
        "colab": {
          "base_uri": "https://localhost:8080/"
        },
        "outputId": "7edd708e-8ec5-4e56-9700-af1068833d2c"
      },
      "execution_count": null,
      "outputs": [
        {
          "output_type": "stream",
          "name": "stdout",
          "text": [
            "3.7.13\n"
          ]
        }
      ]
    },
    {
      "cell_type": "code",
      "source": [
        "test1.describe()\n",
        "#test.describe()"
      ],
      "metadata": {
        "id": "i69ILxyZBd-2",
        "colab": {
          "base_uri": "https://localhost:8080/",
          "height": 361
        },
        "outputId": "d40c22ec-994f-4241-f8d0-5d41072aa3d0"
      },
      "execution_count": null,
      "outputs": [
        {
          "output_type": "execute_result",
          "data": {
            "text/plain": [
              "       NumberOfTime30-59DaysPastDueNotWorse  NumberOfTimes90DaysLate  \\\n",
              "count                         101503.000000            101503.000000   \n",
              "mean                               0.453770                 0.296691   \n",
              "std                                4.538487                 4.515859   \n",
              "min                                0.000000                 0.000000   \n",
              "25%                                0.000000                 0.000000   \n",
              "50%                                0.000000                 0.000000   \n",
              "75%                                0.000000                 0.000000   \n",
              "max                               98.000000                98.000000   \n",
              "\n",
              "       NumberOfTime60-89DaysPastDueNotWorse  \n",
              "count                         101503.000000  \n",
              "mean                               0.270317  \n",
              "std                                4.503578  \n",
              "min                                0.000000  \n",
              "25%                                0.000000  \n",
              "50%                                0.000000  \n",
              "75%                                0.000000  \n",
              "max                               98.000000  "
            ],
            "text/html": [
              "\n",
              "  <div id=\"df-07ad6aa2-dd39-456d-ae23-2100007dcc12\">\n",
              "    <div class=\"colab-df-container\">\n",
              "      <div>\n",
              "<style scoped>\n",
              "    .dataframe tbody tr th:only-of-type {\n",
              "        vertical-align: middle;\n",
              "    }\n",
              "\n",
              "    .dataframe tbody tr th {\n",
              "        vertical-align: top;\n",
              "    }\n",
              "\n",
              "    .dataframe thead th {\n",
              "        text-align: right;\n",
              "    }\n",
              "</style>\n",
              "<table border=\"1\" class=\"dataframe\">\n",
              "  <thead>\n",
              "    <tr style=\"text-align: right;\">\n",
              "      <th></th>\n",
              "      <th>NumberOfTime30-59DaysPastDueNotWorse</th>\n",
              "      <th>NumberOfTimes90DaysLate</th>\n",
              "      <th>NumberOfTime60-89DaysPastDueNotWorse</th>\n",
              "    </tr>\n",
              "  </thead>\n",
              "  <tbody>\n",
              "    <tr>\n",
              "      <th>count</th>\n",
              "      <td>101503.000000</td>\n",
              "      <td>101503.000000</td>\n",
              "      <td>101503.000000</td>\n",
              "    </tr>\n",
              "    <tr>\n",
              "      <th>mean</th>\n",
              "      <td>0.453770</td>\n",
              "      <td>0.296691</td>\n",
              "      <td>0.270317</td>\n",
              "    </tr>\n",
              "    <tr>\n",
              "      <th>std</th>\n",
              "      <td>4.538487</td>\n",
              "      <td>4.515859</td>\n",
              "      <td>4.503578</td>\n",
              "    </tr>\n",
              "    <tr>\n",
              "      <th>min</th>\n",
              "      <td>0.000000</td>\n",
              "      <td>0.000000</td>\n",
              "      <td>0.000000</td>\n",
              "    </tr>\n",
              "    <tr>\n",
              "      <th>25%</th>\n",
              "      <td>0.000000</td>\n",
              "      <td>0.000000</td>\n",
              "      <td>0.000000</td>\n",
              "    </tr>\n",
              "    <tr>\n",
              "      <th>50%</th>\n",
              "      <td>0.000000</td>\n",
              "      <td>0.000000</td>\n",
              "      <td>0.000000</td>\n",
              "    </tr>\n",
              "    <tr>\n",
              "      <th>75%</th>\n",
              "      <td>0.000000</td>\n",
              "      <td>0.000000</td>\n",
              "      <td>0.000000</td>\n",
              "    </tr>\n",
              "    <tr>\n",
              "      <th>max</th>\n",
              "      <td>98.000000</td>\n",
              "      <td>98.000000</td>\n",
              "      <td>98.000000</td>\n",
              "    </tr>\n",
              "  </tbody>\n",
              "</table>\n",
              "</div>\n",
              "      <button class=\"colab-df-convert\" onclick=\"convertToInteractive('df-07ad6aa2-dd39-456d-ae23-2100007dcc12')\"\n",
              "              title=\"Convert this dataframe to an interactive table.\"\n",
              "              style=\"display:none;\">\n",
              "        \n",
              "  <svg xmlns=\"http://www.w3.org/2000/svg\" height=\"24px\"viewBox=\"0 0 24 24\"\n",
              "       width=\"24px\">\n",
              "    <path d=\"M0 0h24v24H0V0z\" fill=\"none\"/>\n",
              "    <path d=\"M18.56 5.44l.94 2.06.94-2.06 2.06-.94-2.06-.94-.94-2.06-.94 2.06-2.06.94zm-11 1L8.5 8.5l.94-2.06 2.06-.94-2.06-.94L8.5 2.5l-.94 2.06-2.06.94zm10 10l.94 2.06.94-2.06 2.06-.94-2.06-.94-.94-2.06-.94 2.06-2.06.94z\"/><path d=\"M17.41 7.96l-1.37-1.37c-.4-.4-.92-.59-1.43-.59-.52 0-1.04.2-1.43.59L10.3 9.45l-7.72 7.72c-.78.78-.78 2.05 0 2.83L4 21.41c.39.39.9.59 1.41.59.51 0 1.02-.2 1.41-.59l7.78-7.78 2.81-2.81c.8-.78.8-2.07 0-2.86zM5.41 20L4 18.59l7.72-7.72 1.47 1.35L5.41 20z\"/>\n",
              "  </svg>\n",
              "      </button>\n",
              "      \n",
              "  <style>\n",
              "    .colab-df-container {\n",
              "      display:flex;\n",
              "      flex-wrap:wrap;\n",
              "      gap: 12px;\n",
              "    }\n",
              "\n",
              "    .colab-df-convert {\n",
              "      background-color: #E8F0FE;\n",
              "      border: none;\n",
              "      border-radius: 50%;\n",
              "      cursor: pointer;\n",
              "      display: none;\n",
              "      fill: #1967D2;\n",
              "      height: 32px;\n",
              "      padding: 0 0 0 0;\n",
              "      width: 32px;\n",
              "    }\n",
              "\n",
              "    .colab-df-convert:hover {\n",
              "      background-color: #E2EBFA;\n",
              "      box-shadow: 0px 1px 2px rgba(60, 64, 67, 0.3), 0px 1px 3px 1px rgba(60, 64, 67, 0.15);\n",
              "      fill: #174EA6;\n",
              "    }\n",
              "\n",
              "    [theme=dark] .colab-df-convert {\n",
              "      background-color: #3B4455;\n",
              "      fill: #D2E3FC;\n",
              "    }\n",
              "\n",
              "    [theme=dark] .colab-df-convert:hover {\n",
              "      background-color: #434B5C;\n",
              "      box-shadow: 0px 1px 3px 1px rgba(0, 0, 0, 0.15);\n",
              "      filter: drop-shadow(0px 1px 2px rgba(0, 0, 0, 0.3));\n",
              "      fill: #FFFFFF;\n",
              "    }\n",
              "  </style>\n",
              "\n",
              "      <script>\n",
              "        const buttonEl =\n",
              "          document.querySelector('#df-07ad6aa2-dd39-456d-ae23-2100007dcc12 button.colab-df-convert');\n",
              "        buttonEl.style.display =\n",
              "          google.colab.kernel.accessAllowed ? 'block' : 'none';\n",
              "\n",
              "        async function convertToInteractive(key) {\n",
              "          const element = document.querySelector('#df-07ad6aa2-dd39-456d-ae23-2100007dcc12');\n",
              "          const dataTable =\n",
              "            await google.colab.kernel.invokeFunction('convertToInteractive',\n",
              "                                                     [key], {});\n",
              "          if (!dataTable) return;\n",
              "\n",
              "          const docLinkHtml = 'Like what you see? Visit the ' +\n",
              "            '<a target=\"_blank\" href=https://colab.research.google.com/notebooks/data_table.ipynb>data table notebook</a>'\n",
              "            + ' to learn more about interactive tables.';\n",
              "          element.innerHTML = '';\n",
              "          dataTable['output_type'] = 'display_data';\n",
              "          await google.colab.output.renderOutput(dataTable, element);\n",
              "          const docLink = document.createElement('div');\n",
              "          docLink.innerHTML = docLinkHtml;\n",
              "          element.appendChild(docLink);\n",
              "        }\n",
              "      </script>\n",
              "    </div>\n",
              "  </div>\n",
              "  "
            ]
          },
          "metadata": {},
          "execution_count": 96
        }
      ]
    },
    {
      "cell_type": "code",
      "source": [],
      "metadata": {
        "id": "urtZgfEuBeCo"
      },
      "execution_count": null,
      "outputs": []
    },
    {
      "cell_type": "code",
      "source": [],
      "metadata": {
        "id": "a_ESkvb6BeEh"
      },
      "execution_count": null,
      "outputs": []
    }
  ]
}